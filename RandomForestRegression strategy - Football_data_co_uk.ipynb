{
 "cells": [
  {
   "cell_type": "code",
   "execution_count": 45,
   "metadata": {
    "collapsed": false,
    "scrolled": true
   },
   "outputs": [
    {
     "name": "stdout",
     "output_type": "stream",
     "text": [
      "            Date  Country       Competition     HomeTeam     AwayTeam  FTHG  \\\n",
      "0     2000-08-12  Belgium    Jupiler League      Beveren    Charleroi   1.0   \n",
      "1     2000-08-12  Belgium    Jupiler League     Mechelen         Genk   0.0   \n",
      "2     2000-08-12  Belgium    Jupiler League  Louvieroise      Lokeren   0.0   \n",
      "3     2000-08-12  Belgium    Jupiler League     Mouscron     Germinal   3.0   \n",
      "4     2000-08-12  Belgium    Jupiler League     Westerlo      Antwerp   2.0   \n",
      "5     2000-08-13  Belgium    Jupiler League        Aalst       Lierse   1.0   \n",
      "6     2000-08-13  Belgium    Jupiler League  Club Brugge         Gent   6.0   \n",
      "7     2000-08-13  Belgium    Jupiler League    Harelbeke     Standard   3.0   \n",
      "8     2000-08-13  Belgium    Jupiler League   St Truiden   Anderlecht   0.0   \n",
      "9     2000-08-19  Belgium    Jupiler League         Gent     Mechelen   2.0   \n",
      "10    2000-08-19  Belgium    Jupiler League   Anderlecht     Westerlo   3.0   \n",
      "11    2000-08-19  Belgium    Jupiler League      Antwerp      Beveren   0.0   \n",
      "12    2000-08-19  Belgium    Jupiler League    Charleroi    Harelbeke   5.0   \n",
      "13    2000-08-19  Belgium    Jupiler League         Genk        Aalst   3.0   \n",
      "14    2000-08-19  Belgium    Jupiler League      Lokeren     Germinal   2.0   \n",
      "15    2000-08-19  Belgium    Jupiler League   St Truiden       Lierse   0.0   \n",
      "16    2000-08-19  Belgium    Jupiler League     Standard  Louvieroise   3.0   \n",
      "17    2000-08-20  Belgium    Jupiler League     Mouscron  Club Brugge   1.0   \n",
      "18    2000-08-25  Belgium    Jupiler League     Germinal     Standard   1.0   \n",
      "19    2000-08-26  Belgium    Jupiler League   Anderlecht      Beveren   4.0   \n",
      "20    2000-08-26  Belgium    Jupiler League     Mechelen     Mouscron   1.0   \n",
      "21    2000-08-26  Belgium    Jupiler League   St Truiden         Genk   2.0   \n",
      "22    2000-08-27  Belgium    Jupiler League        Aalst         Gent   1.0   \n",
      "23    2000-08-27  Belgium    Jupiler League    Charleroi      Antwerp   1.0   \n",
      "24    2000-08-27  Belgium    Jupiler League  Club Brugge      Lokeren   3.0   \n",
      "25    2000-08-27  Belgium    Jupiler League    Harelbeke  Louvieroise   2.0   \n",
      "26    2000-08-27  Belgium    Jupiler League     Westerlo       Lierse   1.0   \n",
      "27    2000-09-05  Belgium    Jupiler League   Anderlecht    Charleroi   7.0   \n",
      "28    2000-09-06  Belgium    Jupiler League         Gent   St Truiden   2.0   \n",
      "29    2000-09-06  Belgium    Jupiler League      Antwerp    Harelbeke   2.0   \n",
      "...          ...      ...               ...          ...          ...   ...   \n",
      "48618 2017-11-17    Spain  Primera Division       Girona     Sociedad   1.0   \n",
      "48619 2017-11-18    Spain  Primera Division   Ath Madrid  Real Madrid   0.0   \n",
      "48620 2017-11-18    Spain  Primera Division       Getafe       Alaves   4.0   \n",
      "48621 2017-11-18    Spain  Primera Division      Leganes    Barcelona   0.0   \n",
      "48622 2017-11-18    Spain  Primera Division      Sevilla        Celta   2.0   \n",
      "48623 2017-11-19    Spain  Primera Division   Ath Bilbao   Villarreal   1.0   \n",
      "48624 2017-11-19    Spain  Primera Division      Espanol     Valencia   0.0   \n",
      "48625 2017-11-19    Spain  Primera Division   Las Palmas      Levante   0.0   \n",
      "48626 2017-11-19    Spain  Primera Division       Malaga    La Coruna   3.0   \n",
      "48627 2017-11-20    Spain  Primera Division        Eibar        Betis   5.0   \n",
      "48628 2017-11-24    Spain  Primera Division        Celta      Leganes   1.0   \n",
      "48629 2017-11-25    Spain  Primera Division       Alaves        Eibar   1.0   \n",
      "48630 2017-11-25    Spain  Primera Division        Betis       Girona   2.0   \n",
      "48631 2017-11-25    Spain  Primera Division      Levante   Ath Madrid   0.0   \n",
      "48632 2017-11-25    Spain  Primera Division  Real Madrid       Malaga   3.0   \n",
      "48633 2017-11-26    Spain  Primera Division    La Coruna   Ath Bilbao   2.0   \n",
      "48634 2017-11-26    Spain  Primera Division     Sociedad   Las Palmas   2.0   \n",
      "48635 2017-11-26    Spain  Primera Division     Valencia    Barcelona   1.0   \n",
      "48636 2017-11-26    Spain  Primera Division   Villarreal      Sevilla   2.0   \n",
      "48637 2017-11-27    Spain  Primera Division      Espanol       Getafe   1.0   \n",
      "48638 2017-12-01    Spain  Primera Division       Malaga      Levante   0.0   \n",
      "48639 2017-12-02    Spain  Primera Division   Ath Bilbao  Real Madrid   0.0   \n",
      "48640 2017-12-02    Spain  Primera Division   Ath Madrid     Sociedad   2.0   \n",
      "48641 2017-12-02    Spain  Primera Division    Barcelona        Celta   2.0   \n",
      "48642 2017-12-02    Spain  Primera Division      Sevilla    La Coruna   2.0   \n",
      "48643 2017-12-03    Spain  Primera Division        Eibar      Espanol   3.0   \n",
      "48644 2017-12-03    Spain  Primera Division       Getafe     Valencia   1.0   \n",
      "48645 2017-12-03    Spain  Primera Division   Las Palmas        Betis   1.0   \n",
      "48646 2017-12-03    Spain  Primera Division      Leganes   Villarreal   3.0   \n",
      "48647 2017-12-04    Spain  Primera Division       Girona       Alaves   2.0   \n",
      "\n",
      "       FTAG FTR  HTHG  HTAG  ...   GB>2.5  GB<2.5 B365>2.5  B365<2.5  PSCH  \\\n",
      "0       2.0   A   1.0   1.0  ...      NaN     NaN      NaN       NaN   NaN   \n",
      "1       0.0   D   0.0   0.0  ...      NaN     NaN      NaN       NaN   NaN   \n",
      "2       0.0   D   0.0   0.0  ...      NaN     NaN      NaN       NaN   NaN   \n",
      "3       0.0   H   1.0   0.0  ...      NaN     NaN      NaN       NaN   NaN   \n",
      "4       1.0   H   1.0   0.0  ...      NaN     NaN      NaN       NaN   NaN   \n",
      "5       3.0   A   0.0   1.0  ...      NaN     NaN      NaN       NaN   NaN   \n",
      "6       2.0   H   3.0   0.0  ...      NaN     NaN      NaN       NaN   NaN   \n",
      "7       4.0   A   1.0   2.0  ...      NaN     NaN      NaN       NaN   NaN   \n",
      "8       0.0   D   0.0   0.0  ...      NaN     NaN      NaN       NaN   NaN   \n",
      "9       1.0   H   1.0   0.0  ...      NaN     NaN      NaN       NaN   NaN   \n",
      "10      2.0   H   1.0   1.0  ...      NaN     NaN      NaN       NaN   NaN   \n",
      "11      1.0   A   0.0   1.0  ...      NaN     NaN      NaN       NaN   NaN   \n",
      "12      0.0   H   2.0   0.0  ...      NaN     NaN      NaN       NaN   NaN   \n",
      "13      1.0   H   2.0   1.0  ...      NaN     NaN      NaN       NaN   NaN   \n",
      "14      0.0   H   1.0   0.0  ...      NaN     NaN      NaN       NaN   NaN   \n",
      "15      1.0   A   0.0   0.0  ...      NaN     NaN      NaN       NaN   NaN   \n",
      "16      0.0   H   0.0   0.0  ...      NaN     NaN      NaN       NaN   NaN   \n",
      "17      2.0   A   1.0   1.0  ...      NaN     NaN      NaN       NaN   NaN   \n",
      "18      0.0   H   1.0   0.0  ...      NaN     NaN      NaN       NaN   NaN   \n",
      "19      0.0   H   2.0   0.0  ...      NaN     NaN      NaN       NaN   NaN   \n",
      "20      5.0   A   0.0   2.0  ...      NaN     NaN      NaN       NaN   NaN   \n",
      "21      2.0   D   1.0   0.0  ...      NaN     NaN      NaN       NaN   NaN   \n",
      "22      4.0   A   1.0   1.0  ...      NaN     NaN      NaN       NaN   NaN   \n",
      "23      0.0   H   1.0   0.0  ...      NaN     NaN      NaN       NaN   NaN   \n",
      "24      1.0   H   1.0   1.0  ...      NaN     NaN      NaN       NaN   NaN   \n",
      "25      2.0   D   1.0   1.0  ...      NaN     NaN      NaN       NaN   NaN   \n",
      "26      0.0   H   0.0   0.0  ...      NaN     NaN      NaN       NaN   NaN   \n",
      "27      2.0   H   3.0   1.0  ...      NaN     NaN      NaN       NaN   NaN   \n",
      "28      1.0   H   0.0   0.0  ...      NaN     NaN      NaN       NaN   NaN   \n",
      "29      0.0   H   0.0   0.0  ...      NaN     NaN      NaN       NaN   NaN   \n",
      "...     ...  ..   ...   ...  ...      ...     ...      ...       ...   ...   \n",
      "48618   1.0   D   0.0   1.0  ...      NaN     NaN      NaN       NaN  2.98   \n",
      "48619   0.0   D   0.0   0.0  ...      NaN     NaN      NaN       NaN  3.21   \n",
      "48620   1.0   H   2.0   0.0  ...      NaN     NaN      NaN       NaN  1.75   \n",
      "48621   3.0   A   0.0   1.0  ...      NaN     NaN      NaN       NaN  9.03   \n",
      "48622   1.0   H   1.0   1.0  ...      NaN     NaN      NaN       NaN  1.62   \n",
      "48623   1.0   D   0.0   1.0  ...      NaN     NaN      NaN       NaN  2.23   \n",
      "48624   2.0   A   0.0   0.0  ...      NaN     NaN      NaN       NaN  2.66   \n",
      "48625   2.0   A   0.0   0.0  ...      NaN     NaN      NaN       NaN  1.72   \n",
      "48626   2.0   H   1.0   1.0  ...      NaN     NaN      NaN       NaN  2.42   \n",
      "48627   0.0   H   2.0   0.0  ...      NaN     NaN      NaN       NaN  2.21   \n",
      "48628   0.0   H   1.0   0.0  ...      NaN     NaN      NaN       NaN  1.94   \n",
      "48629   2.0   A   0.0   1.0  ...      NaN     NaN      NaN       NaN  3.08   \n",
      "48630   2.0   D   0.0   1.0  ...      NaN     NaN      NaN       NaN  2.03   \n",
      "48631   5.0   A   0.0   2.0  ...      NaN     NaN      NaN       NaN  7.59   \n",
      "48632   2.0   H   2.0   1.0  ...      NaN     NaN      NaN       NaN  1.10   \n",
      "48633   2.0   D   1.0   1.0  ...      NaN     NaN      NaN       NaN  2.98   \n",
      "48634   2.0   D   1.0   1.0  ...      NaN     NaN      NaN       NaN  1.40   \n",
      "48635   1.0   D   0.0   0.0  ...      NaN     NaN      NaN       NaN  4.89   \n",
      "48636   3.0   A   1.0   0.0  ...      NaN     NaN      NaN       NaN  2.16   \n",
      "48637   0.0   H   0.0   0.0  ...      NaN     NaN      NaN       NaN  2.20   \n",
      "48638   0.0   D   0.0   0.0  ...      NaN     NaN      NaN       NaN  1.88   \n",
      "48639   0.0   D   0.0   0.0  ...      NaN     NaN      NaN       NaN  6.90   \n",
      "48640   1.0   H   0.0   1.0  ...      NaN     NaN      NaN       NaN  1.44   \n",
      "48641   2.0   D   1.0   1.0  ...      NaN     NaN      NaN       NaN  1.13   \n",
      "48642   0.0   H   1.0   0.0  ...      NaN     NaN      NaN       NaN  1.43   \n",
      "48643   1.0   H   2.0   0.0  ...      NaN     NaN      NaN       NaN  2.37   \n",
      "48644   0.0   H   0.0   0.0  ...      NaN     NaN      NaN       NaN  3.23   \n",
      "48645   0.0   H   1.0   0.0  ...      NaN     NaN      NaN       NaN  2.31   \n",
      "48646   1.0   H   0.0   0.0  ...      NaN     NaN      NaN       NaN  2.80   \n",
      "48647   3.0   A   0.0   0.0  ...      NaN     NaN      NaN       NaN  1.60   \n",
      "\n",
      "        PSCD   PSCA   PSH    PSD    PSA  \n",
      "0        NaN    NaN   NaN    NaN    NaN  \n",
      "1        NaN    NaN   NaN    NaN    NaN  \n",
      "2        NaN    NaN   NaN    NaN    NaN  \n",
      "3        NaN    NaN   NaN    NaN    NaN  \n",
      "4        NaN    NaN   NaN    NaN    NaN  \n",
      "5        NaN    NaN   NaN    NaN    NaN  \n",
      "6        NaN    NaN   NaN    NaN    NaN  \n",
      "7        NaN    NaN   NaN    NaN    NaN  \n",
      "8        NaN    NaN   NaN    NaN    NaN  \n",
      "9        NaN    NaN   NaN    NaN    NaN  \n",
      "10       NaN    NaN   NaN    NaN    NaN  \n",
      "11       NaN    NaN   NaN    NaN    NaN  \n",
      "12       NaN    NaN   NaN    NaN    NaN  \n",
      "13       NaN    NaN   NaN    NaN    NaN  \n",
      "14       NaN    NaN   NaN    NaN    NaN  \n",
      "15       NaN    NaN   NaN    NaN    NaN  \n",
      "16       NaN    NaN   NaN    NaN    NaN  \n",
      "17       NaN    NaN   NaN    NaN    NaN  \n",
      "18       NaN    NaN   NaN    NaN    NaN  \n",
      "19       NaN    NaN   NaN    NaN    NaN  \n",
      "20       NaN    NaN   NaN    NaN    NaN  \n",
      "21       NaN    NaN   NaN    NaN    NaN  \n",
      "22       NaN    NaN   NaN    NaN    NaN  \n",
      "23       NaN    NaN   NaN    NaN    NaN  \n",
      "24       NaN    NaN   NaN    NaN    NaN  \n",
      "25       NaN    NaN   NaN    NaN    NaN  \n",
      "26       NaN    NaN   NaN    NaN    NaN  \n",
      "27       NaN    NaN   NaN    NaN    NaN  \n",
      "28       NaN    NaN   NaN    NaN    NaN  \n",
      "29       NaN    NaN   NaN    NaN    NaN  \n",
      "...      ...    ...   ...    ...    ...  \n",
      "48618   3.60   2.45  2.97   3.59   2.48  \n",
      "48619   3.38   2.43  3.32   3.58   2.28  \n",
      "48620   3.55   5.98  1.86   3.50   5.06  \n",
      "48621   5.00   1.41  9.50   5.35   1.37  \n",
      "48622   4.41   5.66  1.78   4.05   4.78  \n",
      "48623   3.37   3.63  2.24   3.41   3.55  \n",
      "48624   3.41   2.85  3.29   3.48   2.33  \n",
      "48625   4.18   4.97  1.94   3.64   4.34  \n",
      "48626   3.39   3.20  2.37   3.39   3.30  \n",
      "48627   3.59   3.46  2.46   3.48   3.06  \n",
      "48628   3.44   4.66  2.01   3.39   4.38  \n",
      "48629   2.95   2.81  2.72   3.08   3.05  \n",
      "48630   3.84   3.72  2.05   3.77   3.75  \n",
      "48631   3.89   1.58  7.40   3.95   1.58  \n",
      "48632  12.80  26.50  1.09  15.37  25.02  \n",
      "48633   3.22   2.67  2.78   3.41   2.73  \n",
      "48634   5.42   8.18  1.41   5.51   7.61  \n",
      "48635   4.65   1.67  4.26   3.99   1.87  \n",
      "48636   3.66   3.52  2.41   3.40   3.22  \n",
      "48637   3.28   3.83  2.12   3.34   4.02  \n",
      "48638   3.63   4.69  1.78   3.80   5.12  \n",
      "48639   5.15   1.47  7.11   4.85   1.49  \n",
      "48640   4.75   8.51  1.56   4.25   7.08  \n",
      "48641  11.00  24.50  1.14  10.92  19.11  \n",
      "48642   5.48   7.33  1.45   5.00   7.60  \n",
      "48643   3.25   3.45  2.38   3.25   3.43  \n",
      "48644   3.65   2.29  2.96   3.52   2.51  \n",
      "48645   3.79   3.09  2.27   3.74   3.21  \n",
      "48646   3.34   2.75  2.91   3.16   2.78  \n",
      "48647   4.15   6.57  1.63   3.94   6.59  \n",
      "\n",
      "[48648 rows x 82 columns]\n"
     ]
    }
   ],
   "source": [
    "import pandas as pd\n",
    "import numpy as np\n",
    "import matplotlib.pyplot as plt\n",
    "%matplotlib inline\n",
    "\n",
    "# col = [\"scheduled_off\",\"full_description\",\"competition\",\"competition_type\",\"event_name\",\n",
    "# \"team1\",\"team2\",\"1\",\"x\",\"2\",\"vol_1\",\"vol_x\",\"vol_2\",\"bet_1\",\"bet_x\",\"bet_2\",\"favorite_odd\",\"favorite_flag\",\"winner\",\"IP_1\",\"IP_x\",\n",
    "# \"IP_2\",\"min_from_start_1\",\"min_from_start_x\",\"min_from_start_2\",\"vm_ep_1\",\"vm_ep_x\",\"vm_ep_2\",\"prob_1\",\"prob_x\",\"prob_2\",\"pnl_1\",\"pnl_x\",\"pnl_2\"]\n",
    "# types = [str, str, str, str, str, str, str, float, float, float, float, float ,float, float, \n",
    "#          float, float, float ,str, str, str, str, str, float, float, float,  float, float, float]\n",
    "# types = {col:t for col, t in zip(col, types)}\n",
    "\n",
    "# Data file needs to be in xlsx format\n",
    "data = pd.read_excel(\"RawData_FootballDataCoUk_DE_EN_ES_FR_NL_BE_IT_PT_GR - Copie.xlsx\", header = 0, index_col = 0, encoding = \"cp1252\", sep = \",\", na_values = [\"\\\\N\"])\n",
    "# 'BbAv<2.5'\n",
    "# 'BbAv>2.5'\n",
    "data = data.drop(['Bb1X2','BbMxH','BbAvH','BbMxD','BbAvD','BbMxA','BbAvA','MaxH','MaxD','MaxA','AvgH','AvgD','AvgA','BbOU','BbMx>2.5','BbMx<2.5','BbAH','BbAHh','BbMxAHH','BbAvAHH','BbMxAHA','BbAvAHA','GBAHH','GBAHA','GBAH','LBAHH','LBAHA','LBAH','B365AHH','B365AHA','B365AH'],axis=1)\n",
    "\n",
    "data = data.reset_index()\n",
    "print(data)"
   ]
  },
  {
   "cell_type": "code",
   "execution_count": 46,
   "metadata": {
    "collapsed": false
   },
   "outputs": [],
   "source": [
    "data.to_csv('RawData_FootballDataCoUk_DE_EN_ES_FR_NL_BE_IT_PT_GR - clean.csv')"
   ]
  },
  {
   "cell_type": "code",
   "execution_count": 47,
   "metadata": {
    "collapsed": false,
    "scrolled": true
   },
   "outputs": [
    {
     "name": "stdout",
     "output_type": "stream",
     "text": [
      "        Date  Country     Competition        team1      team2  FTHG  FTAG FTR  \\\n",
      "0 2000-08-12  Belgium  Jupiler League      Beveren  Charleroi   1.0   2.0   A   \n",
      "1 2000-08-12  Belgium  Jupiler League     Mechelen       Genk   0.0   0.0   D   \n",
      "2 2000-08-12  Belgium  Jupiler League  Louvieroise    Lokeren   0.0   0.0   D   \n",
      "3 2000-08-12  Belgium  Jupiler League     Mouscron   Germinal   3.0   0.0   H   \n",
      "4 2000-08-12  Belgium  Jupiler League     Westerlo    Antwerp   2.0   1.0   H   \n",
      "\n",
      "   HTHG  HTAG   ...   PSCD  PSCA PSH  PSD  PSA     1    x     2  sum_prob  \\\n",
      "0   1.0   1.0   ...    NaN   NaN NaN  NaN  NaN  2.00  3.0  2.50  1.233333   \n",
      "1   0.0   0.0   ...    NaN   NaN NaN  NaN  NaN  2.00  3.0  2.40  1.250000   \n",
      "2   0.0   0.0   ...    NaN   NaN NaN  NaN  NaN  2.30  3.0  2.35  1.193648   \n",
      "3   1.0   0.0   ...    NaN   NaN NaN  NaN  NaN  1.80  3.0  3.50  1.174603   \n",
      "4   1.0   0.0   ...    NaN   NaN NaN  NaN  NaN  1.41  3.1  3.60  1.309578   \n",
      "\n",
      "   winner  \n",
      "0       2  \n",
      "1       x  \n",
      "2       x  \n",
      "3       1  \n",
      "4       1  \n",
      "\n",
      "[5 rows x 87 columns]\n"
     ]
    }
   ],
   "source": [
    "# data[\"execution_times\"] = np.abs(data[\"min_from_start_1\"].fillna(300) - data[\"min_from_start_2\"].fillna(600)) \\\n",
    "#                         + np.abs(data[\"min_from_start_1\"].fillna(300) - data[\"min_from_start_x\"].fillna(600)) \\\n",
    "#                         + np.abs(data[\"min_from_start_2\"].fillna(300) - data[\"min_from_start_x\"].fillna(600))\n",
    "# data[\"execution_times\"] = data[\"execution_times\"]\n",
    "# \n",
    "# data[\"prob_1\"] = 1/ data[\"1\"]\n",
    "# data[\"prob_x\"] = 1/ data[\"x\"]\n",
    "# data[\"prob_2\"] = 1/ data[\"2\"]\n",
    "# data[\"sum_prob\"] = data[\"prob_1\"]+data[\"prob_x\"]+data[\"prob_2\"]\n",
    "# data[\"1\"] = data[\"1\"] * data[\"sum_prob\"]\n",
    "# data[\"2\"] = data[\"2\"] * data[\"sum_prob\"]\n",
    "# data[\"x\"] = data[\"x\"] * data[\"sum_prob\"]\n",
    "\n",
    "# Get columns which contain H, D or A as last character\n",
    "cols_H = [c for c in data.columns if c[-1] == 'H']\n",
    "cols_D = [c for c in data.columns if c[-1] == 'D']\n",
    "cols_A = [c for c in data.columns if c[-1] == 'A']\n",
    "\n",
    "# Compute an average of all H odds, D odds and A odds to avoid arbitrage (i.e. when sum(1/odd_i) < 1)\n",
    "data['H_MatchOdds'] = data[cols_H].min(axis=1)\n",
    "data['D_MatchOdds'] = data[cols_D].min(axis=1)\n",
    "data['A_MatchOdds'] = data[cols_A].min(axis=1)\n",
    "\n",
    "# Remove rows where no odds are available\n",
    "data = data[data['H_MatchOdds'].isnull()==False]\n",
    "data = data[data['D_MatchOdds'].isnull()==False]\n",
    "data = data[data['A_MatchOdds'].isnull()==False]\n",
    "\n",
    "# Arbitrage Calculation\n",
    "data['sum_prob'] = (1 / data[['H_MatchOdds','D_MatchOdds','A_MatchOdds']]).sum(axis=1)\n",
    "\n",
    "# Rename columns to 1,x,2 - generate winner - create team1 and team2\n",
    "data = data.rename(columns = {'H_MatchOdds':'1','D_MatchOdds':'x','A_MatchOdds':'2','HomeTeam':'team1','AwayTeam':'team2'})\n",
    "data['winner'] = data['FTR'].replace({'H':'1','D':'x','A':'2'})\n",
    "\n",
    "# Test Odds consistancy Arbitrage, NaN, Inf\n",
    "#print(data[data['sum_prob']<0.1])\n",
    "\n",
    "print(data.head())"
   ]
  },
  {
   "cell_type": "code",
   "execution_count": 48,
   "metadata": {
    "collapsed": false
   },
   "outputs": [
    {
     "data": {
      "image/png": "[encoded data removed]",
      "text/plain": [
       "<matplotlib.figure.Figure at 0x1131cdc44e0>"
      ]
     },
     "metadata": {},
     "output_type": "display_data"
    },
    {
     "data": {
      "text/plain": [
       "count    48379.000000\n",
       "mean         1.153884\n",
       "std          0.034543\n",
       "min          1.026558\n",
       "25%          1.128022\n",
       "50%          1.155807\n",
       "75%          1.177778\n",
       "max          1.781979\n",
       "Name: sum_prob, dtype: float64"
      ]
     },
     "execution_count": 48,
     "metadata": {},
     "output_type": "execute_result"
    }
   ],
   "source": [
    "# Plot 'sum prob' distribution to check no arbitrage (no data <1)\n",
    "data[\"sum_prob\"].hist(bins=100)\n",
    "plt.show()\n",
    "data[\"sum_prob\"].describe()"
   ]
  },
  {
   "cell_type": "code",
   "execution_count": 49,
   "metadata": {
    "collapsed": false
   },
   "outputs": [],
   "source": [
    "def pnl_per_runner(data, fee = 0.0, stake = 10, odds_ratio = 1):\n",
    "    data = data.copy()\n",
    "    targets = [\"1\",\"x\",\"2\"]\n",
    "    for target in targets:\n",
    "        pls = []\n",
    "        for i, odds in data.iterrows():\n",
    "                pl = ((float(odds[target]) * odds_ratio - 1) * stake) * (1 - fee) if target == odds[\"winner\"] else -stake \n",
    "                pls.append(pl)\n",
    "\n",
    "        data[\"pnl_\"+target] = pls\n",
    "    return data\n",
    "\n",
    "data = pnl_per_runner(data)"
   ]
  },
  {
   "cell_type": "code",
   "execution_count": 50,
   "metadata": {
    "collapsed": false
   },
   "outputs": [
    {
     "name": "stdout",
     "output_type": "stream",
     "text": [
      "saved model to encoder.pkl\n"
     ]
    }
   ],
   "source": [
    "import matplotlib.pyplot as plt\n",
    "from sklearn.preprocessing import LabelEncoder\n",
    "from sklearn.externals import joblib\n",
    "\n",
    "data_preprocessing = data[[\"team1\",\"team2\",\"1\",\"x\",\"2\",\"pnl_1\",\"pnl_x\",\"pnl_2\", \"winner\"]]\n",
    "data_preprocessing = data_preprocessing[data_preprocessing.astype(str) != \"\\\\N\"].dropna().copy()\n",
    "all_teams = list(data_preprocessing[\"team1\"].values) + list(data_preprocessing[\"team2\"].values) \n",
    "le = LabelEncoder()\n",
    "le.fit(all_teams)\n",
    "\n",
    "# joblib.dump(le, 'encoder.pkl') \n",
    "print(\"saved model to encoder.pkl\")\n",
    "\n",
    "data_preprocessing[\"team1_label\"] = le.transform(data_preprocessing[\"team1\"])\n",
    "data_preprocessing[\"team2_label\"] = le.transform(data_preprocessing[\"team2\"])\n",
    "\n",
    "data_preprocessing[\"1\"] = data_preprocessing[\"1\"].astype(float)\n",
    "data_preprocessing[\"x\"] = data_preprocessing[\"x\"].astype(float)\n",
    "data_preprocessing[\"2\"] = data_preprocessing[\"2\"].astype(float)\n",
    "\n",
    "data_preprocessing[\"prob_1\"] = 1/data_preprocessing[\"1\"]\n",
    "data_preprocessing[\"prob_x\"] = 1/data_preprocessing[\"x\"]\n",
    "data_preprocessing[\"prob_2\"] = 1/data_preprocessing[\"2\"]\n",
    "\n"
   ]
  },
  {
   "cell_type": "code",
   "execution_count": 51,
   "metadata": {
    "collapsed": false
   },
   "outputs": [
    {
     "name": "stdout",
     "output_type": "stream",
     "text": [
      "absolute error of fit\n",
      "8.92206112836\n",
      "absolute error of pred\n",
      "9.35234475657\n",
      "r2 of fit\n",
      "-25.7936387621\n",
      "r2 of pred\n",
      "-24.8379561166\n",
      "saved model to predictor_1.pkl\n",
      "absolute error of fit\n",
      "11.7381388749\n",
      "absolute error of pred\n",
      "12.3344954022\n",
      "r2 of fit\n",
      "-39.478257163\n",
      "r2 of pred\n",
      "-43.9668019521\n",
      "saved model to predictor_x.pkl\n",
      "absolute error of fit\n",
      "10.4454709995\n",
      "absolute error of pred\n",
      "11.0048237045\n",
      "r2 of fit\n",
      "-18.6226314269\n",
      "r2 of pred\n",
      "-24.4679824003\n",
      "saved model to predictor_2.pkl\n",
      "absolute error of fit\n",
      "8.92206112836\n",
      "absolute error of pred\n",
      "8.92206112836\n",
      "r2 of fit\n",
      "-25.7936387621\n",
      "r2 of pred\n",
      "-25.7936387621\n",
      "absolute error of fit\n",
      "11.7381388749\n",
      "absolute error of pred\n",
      "11.7381388749\n",
      "r2 of fit\n",
      "-39.478257163\n",
      "r2 of pred\n",
      "-39.478257163\n",
      "absolute error of fit\n",
      "10.4454709995\n",
      "absolute error of pred\n",
      "10.4454709995\n",
      "r2 of fit\n",
      "-18.6226314269\n",
      "r2 of pred\n",
      "-18.6226314269\n",
      "absolute error of fit\n",
      "8.92206112836\n",
      "absolute error of pred\n",
      "9.26532866575\n",
      "r2 of fit\n",
      "-25.7936387621\n",
      "r2 of pred\n",
      "-27.5182784757\n",
      "absolute error of fit\n",
      "11.7381388749\n",
      "absolute error of pred\n",
      "12.4704389874\n",
      "r2 of fit\n",
      "-39.478257163\n",
      "r2 of pred\n",
      "-39.5091094508\n",
      "absolute error of fit\n",
      "10.4454709995\n",
      "absolute error of pred\n",
      "11.1345336387\n",
      "r2 of fit\n",
      "-18.6226314269\n",
      "r2 of pred\n",
      "-24.3840424379\n"
     ]
    }
   ],
   "source": [
    "number_games = len(data_preprocessing)\n",
    "\n",
    "fit_span = [0 , round(number_games * 0.4)]\n",
    "cv_span = [round(number_games * 0.4) , round(number_games * 0.7)]\n",
    "out_span = [round(number_games * 0.7) , number_games]\n",
    "data_fit = data_preprocessing.iloc[fit_span[0]:fit_span[1]].copy()\n",
    "data_cv = data_preprocessing.iloc[cv_span[0]:cv_span[1]].copy()\n",
    "data_out = data_preprocessing.iloc[out_span[0]:out_span[1]].copy()\n",
    "\n",
    "from sklearn.ensemble import RandomForestRegressor\n",
    "from sklearn import linear_model\n",
    "from sklearn import metrics\n",
    "from sklearn.externals import joblib\n",
    "clf = RandomForestRegressor(max_depth=5, n_estimators=20, max_features=5, random_state = 1)\n",
    "predictors = [\"team1_label\",\"team2_label\",\"1\", \"x\", \"2\"]\n",
    "\n",
    "#clf = linear_model.LinearRegression()\n",
    "#predictors = [\"1\", \"x\", \"2\"]\n",
    "\n",
    "\n",
    "def prediction(data_fit, data_out, target, clf, predictors, save = None):\n",
    "    X = data_fit[predictors]\n",
    "    Y = data_fit[target]\n",
    "    #Y = data_fit[\"winner\"] == \"x\"\n",
    "    X_out = data_out[predictors]\n",
    "    Y_out = data_out[target]\n",
    "    #clf = RandomForestClassifier(max_depth=10, n_estimators=20, max_features=3)\n",
    "    \n",
    "    clf.fit(X,Y)\n",
    "    Y_estim = clf.predict(X)\n",
    "    Y_pred = clf.predict(X_out)\n",
    "    \n",
    "    print(\"absolute error of fit\")\n",
    "    print(metrics.mean_absolute_error(Y_estim, Y))\n",
    "    print(\"absolute error of pred\")\n",
    "    print(metrics.mean_absolute_error(Y_pred, Y_out))\n",
    "    print(\"r2 of fit\")\n",
    "    print(metrics.r2_score(Y_estim, Y))\n",
    "    print(\"r2 of pred\")\n",
    "    print(metrics.r2_score(Y_pred, Y_out))\n",
    "    \n",
    "    if save is not None:\n",
    "        joblib.dump(clf, save+'.pkl') \n",
    "        print(\"saved model to \"+save+\".pkl\")\n",
    "        \n",
    "    return Y_pred\n",
    "\n",
    "data_cv[\"pred_1\"] = prediction(data_fit, data_cv, \"pnl_1\", clf, predictors, save = \"predictor_1\")\n",
    "data_cv[\"pred_x\"] = prediction(data_fit, data_cv, \"pnl_x\", clf, predictors, save = \"predictor_x\")\n",
    "data_cv[\"pred_2\"] = prediction(data_fit, data_cv, \"pnl_2\", clf, predictors, save = \"predictor_2\")\n",
    "\n",
    "\n",
    "data_fit[\"pred_1\"] = prediction(data_fit, data_fit, \"pnl_1\", clf, predictors)\n",
    "data_fit[\"pred_x\"] = prediction(data_fit, data_fit, \"pnl_x\", clf, predictors)\n",
    "data_fit[\"pred_2\"] = prediction(data_fit, data_fit, \"pnl_2\", clf, predictors)\n",
    "\n",
    "\n",
    "data_out[\"pred_1\"] = prediction(data_fit, data_out, \"pnl_1\", clf, predictors)\n",
    "data_out[\"pred_x\"] = prediction(data_fit, data_out, \"pnl_x\", clf, predictors)\n",
    "data_out[\"pred_2\"] = prediction(data_fit, data_out, \"pnl_2\", clf, predictors)\n"
   ]
  },
  {
   "cell_type": "code",
   "execution_count": 52,
   "metadata": {
    "collapsed": true
   },
   "outputs": [],
   "source": [
    "def pnl_target(pred, fee = 0.05, stake = 10, max_odds = 2, min_odds = 1.2, \n",
    "               scale_with_pred = True, scale_with_odds = False, target_restrict = None,\n",
    "              min_pred = 0):\n",
    "    data = pred.copy()\n",
    "    pls = []\n",
    "    targets = []\n",
    "    runners  = [\"1\",\"x\",\"2\"]\n",
    "    for i, odds in data.iterrows():\n",
    "        target = \"1\"\n",
    "        for r in runners:\n",
    "            if float(odds[\"pred_\"+r]) > float(odds[\"pred_\"+target]):\n",
    "                target = r\n",
    "        \n",
    "        restricted = target_restrict is None or target in target_restrict\n",
    "        \n",
    "        if odds[\"pred_\"+target] > min_pred and float(odds[target])<max_odds  and float(odds[target])>min_odds and restricted:\n",
    "            stake_adjusted = stake\n",
    "            \n",
    "            if scale_with_odds:\n",
    "                stake_adjusted = stake_adjusted / float(odds[target])\n",
    "            \n",
    "            if scale_with_pred:\n",
    "                stake_adjusted = stake_adjusted * max(min(odds[\"pred_\"+target], 5), 0.5)\n",
    "                \n",
    "            pl = ((float(odds[target]) - 1) * stake_adjusted) * (1 - fee) if target == odds[\"winner\"] else - stake_adjusted \n",
    "            pls.append(pl)\n",
    "            targets.append(target)\n",
    "        else:\n",
    "            pls.append(0)\n",
    "            targets.append(target)\n",
    "    data[\"pnl\"] = pls\n",
    "    \n",
    "    data[\"bet\"] = targets\n",
    "    data.index = range(len(data))\n",
    "    data[\"cum_pnl\"] = data[\"pnl\"].cumsum()\n",
    "    data[\"drawdown\"] = data[\"cum_pnl\"].cummax() - data[\"cum_pnl\"]\n",
    "    m = (data[data[\"pnl\"] != 0])[\"pnl\"].mean()\n",
    "    s = (data[data[\"pnl\"] != 0])[\"pnl\"].std()\n",
    "    \n",
    "    p_bet = (data[data[\"pnl\"] > 0])[\"pnl\"].count()\n",
    "    n_bet = (data[data[\"pnl\"] < 0])[\"pnl\"].count()\n",
    "    \n",
    "    winning_ratio = p_bet / (p_bet + n_bet)\n",
    "    print(\"played games: %f\" % (len(data[data[\"pnl\"] != 0]) / len(data)))\n",
    "    sharpe = m/s\n",
    "    print(\"mean : %f\" % m)\n",
    "    print(\"standard deviation: %f\" % s)\n",
    "    print(\"max drawdown: %f\" % data[\"drawdown\"].max())\n",
    "    print(\"winning ratio: %f\" % winning_ratio)\n",
    "    print(\"sharpe: %f\" % (sharpe * np.sqrt(100)))\n",
    "    return data"
   ]
  },
  {
   "cell_type": "code",
   "execution_count": 53,
   "metadata": {
    "collapsed": false
   },
   "outputs": [
    {
     "name": "stdout",
     "output_type": "stream",
     "text": [
      "played games: 0.136730\n",
      "mean : 24.481779\n",
      "standard deviation: 31.752757\n",
      "max drawdown: 84.398013\n",
      "winning ratio: 0.817460\n",
      "sharpe: 7.710127\n"
     ]
    }
   ],
   "source": [
    "pl = pnl_target(data_fit, max_odds = 4, min_odds = 1.1, fee = 0.05, \n",
    "                target_restrict = None, scale_with_pred = True, \n",
    "                stake = 10, scale_with_odds = False, min_pred = 0.5)"
   ]
  },
  {
   "cell_type": "code",
   "execution_count": 54,
   "metadata": {
    "collapsed": false
   },
   "outputs": [
    {
     "data": {
      "image/png": "[encoded data removed]",
      "text/plain": [
       "<matplotlib.figure.Figure at 0x1132a0bb898>"
      ]
     },
     "metadata": {},
     "output_type": "display_data"
    }
   ],
   "source": [
    "from matplotlib import pyplot as plt\n",
    "pl[\"cum_pnl\"].plot()\n",
    "pl[\"drawdown\"].plot()\n",
    "plt.show()"
   ]
  },
  {
   "cell_type": "code",
   "execution_count": 55,
   "metadata": {
    "collapsed": false
   },
   "outputs": [
    {
     "name": "stdout",
     "output_type": "stream",
     "text": [
      "played games: 0.163015\n",
      "mean : -11.560334\n",
      "standard deviation: 114.963510\n",
      "max drawdown: 27542.810285\n",
      "winning ratio: 0.327134\n",
      "sharpe: -1.005566\n"
     ]
    }
   ],
   "source": [
    "pl = pnl_target(data_out, max_odds = 4, min_odds = 1.1, fee = 0.1, \n",
    "                target_restrict = None, scale_with_pred = True, \n",
    "                stake = 40, scale_with_odds = False, min_pred = 0.5)"
   ]
  },
  {
   "cell_type": "code",
   "execution_count": 56,
   "metadata": {
    "collapsed": false
   },
   "outputs": [
    {
     "data": {
      "image/png": "[encoded data removed]",
      "text/plain": [
       "<matplotlib.figure.Figure at 0x1131cba1e80>"
      ]
     },
     "metadata": {},
     "output_type": "display_data"
    }
   ],
   "source": [
    "from matplotlib import pyplot as plt\n",
    "pl[\"cum_pnl\"].plot()\n",
    "pl[\"drawdown\"].plot()\n",
    "plt.show()"
   ]
  },
  {
   "cell_type": "code",
   "execution_count": 13,
   "metadata": {
    "collapsed": true
   },
   "outputs": [],
   "source": [
    "pl.to_csv(\"pred_1.csv\", sep = \";\")"
   ]
  },
  {
   "cell_type": "code",
   "execution_count": 305,
   "metadata": {
    "collapsed": false
   },
   "outputs": [
    {
     "data": {
      "text/plain": [
       "137026"
      ]
     },
     "execution_count": 305,
     "metadata": {},
     "output_type": "execute_result"
    }
   ],
   "source": [
    "len(data_preprocessing)"
   ]
  },
  {
   "cell_type": "code",
   "execution_count": 86,
   "metadata": {
    "collapsed": false
   },
   "outputs": [
    {
     "name": "stdout",
     "output_type": "stream",
     "text": [
      "[[5715, 10146, 2.5, 3.8999999999999999, 5.2000000000000002]]\n",
      "{'1': array([ 0.38376238]), 'x': array([-0.34452114]), '2': array([-0.33114465])}\n"
     ]
    },
    {
     "data": {
      "text/plain": [
       "('1', 2.0)"
      ]
     },
     "execution_count": 86,
     "metadata": {},
     "output_type": "execute_result"
    }
   ],
   "source": [
    "from sklearn.externals import joblib\n",
    "\n",
    "class RFRPredictor():\n",
    "    def __init__(self, pred_file, encoder_file, runners, stake = 4, target_restrict = None, \n",
    "                 scale_with_pred=None, scale_with_odds=None, min_odds = 1.01, \n",
    "                 max_odds = 1000, min_pred = 0):\n",
    "        \n",
    "        self.encoder_file = encoder_file\n",
    "        self.pred_file = pred_file\n",
    "        self.runners = runners\n",
    "        self.stake = stake\n",
    "        self.target_restrict = target_restrict\n",
    "        self.scale_with_pred = scale_with_pred,\n",
    "        self.scale_with_odds = scale_with_odds, \n",
    "        self.min_odds = min_odds\n",
    "        self.max_odds = max_odds\n",
    "        self.min_pred = min_pred\n",
    "        self.models = self.read_models(self.pred_file, self.runners)\n",
    "        self.encoder = self.read_encoder(self.encoder_file)\n",
    "        \n",
    "    def read_models(self, file, runners):\n",
    "        models = {}\n",
    "        for runner in runners:\n",
    "            models[runner] = joblib.load(file+\"_\"+runner+\".pkl\")\n",
    "        return models\n",
    "\n",
    "    def read_encoder(self, file):\n",
    "        return joblib.load(file+\".pkl\")\n",
    "\n",
    "    def make_prediction(self, data):\n",
    "        \n",
    "        try:\n",
    "            team1_label = self.encoder.transform([data[\"team1\"]])[0]\n",
    "            team2_label = self.encoder.transform([data[\"team2\"]])[0]\n",
    "        except ValueError:\n",
    "            return {runner:-1000 for runner in runners}\n",
    "        \n",
    "        regressors = [[team1_label,team2_label,data[\"1\"], data[\"x\"], data[\"2\"]]]\n",
    "        print(regressors)\n",
    "        pred = {}\n",
    "\n",
    "        for runner in self.runners:\n",
    "            pred[runner] = self.models[runner].predict(regressors)\n",
    "\n",
    "        return pred\n",
    "\n",
    "    def get_bet(self, odds):\n",
    "        \n",
    "        pred = self.make_prediction(odds)\n",
    "        print(pred)\n",
    "        target = self.runners[0]\n",
    "        for runner in self.runners:\n",
    "            if float(pred[runner]) > float(pred[target]):\n",
    "                target = runner\n",
    "\n",
    "        restricted = self.target_restrict is None or target in self.target_restrict\n",
    "\n",
    "        if pred[target] > self.min_pred and float(odds[target])<self.max_odds \\\n",
    "                    and float(odds[target])>self.min_odds and restricted:\n",
    "            \n",
    "            stake_adjusted = self.stake\n",
    "\n",
    "            if self.scale_with_odds:\n",
    "                stake_adjusted = stake_adjusted / float(odds[target])\n",
    "\n",
    "            if self.scale_with_pred:\n",
    "                stake_adjusted = stake_adjusted * max(min(pred[target], 5), 0.5)\n",
    "            return target, stake_adjusted\n",
    "        else:\n",
    "            return None, 0\n",
    "\n",
    "\n",
    "pred_file = \"predictor\"    \n",
    "encoder_file = \"encoder\"\n",
    "runners = [\"1\",\"x\",\"2\"]\n",
    "\n",
    "predictor = RFRPredictor(pred_file, encoder_file, runners, stake = 10, max_odds = 5, min_odds = 1.2, \n",
    "        scale_with_pred = True, scale_with_odds = False, target_restrict = None,\n",
    "        min_pred = 0)\n",
    "\n",
    "odds = data_preprocessing.iloc[0]\n",
    "\n",
    "predictor.get_bet(odds)\n"
   ]
  },
  {
   "cell_type": "code",
   "execution_count": 87,
   "metadata": {
    "collapsed": false
   },
   "outputs": [
    {
     "name": "stdout",
     "output_type": "stream",
     "text": [
      "sharpe: 10.000000\n"
     ]
    }
   ],
   "source": [
    "print(\"sharpe: %f\" % np.sqrt(100))"
   ]
  },
  {
   "cell_type": "code",
   "execution_count": 97,
   "metadata": {
    "collapsed": false
   },
   "outputs": [
    {
     "name": "stdout",
     "output_type": "stream",
     "text": [
      "[[5715, 10146, 1.5, 3.8999999999999999, 5.2000000000000002]]\n",
      "{'1': array([-0.71601151]), 'x': array([-0.46854076]), '2': array([-0.43885656])}\n"
     ]
    },
    {
     "name": "stderr",
     "output_type": "stream",
     "text": [
      "c:\\users\\betfair\\anaconda3\\envs\\research\\lib\\site-packages\\ipykernel_launcher.py:2: SettingWithCopyWarning: \n",
      "A value is trying to be set on a copy of a slice from a DataFrame\n",
      "\n",
      "See the caveats in the documentation: http://pandas.pydata.org/pandas-docs/stable/indexing.html#indexing-view-versus-copy\n",
      "  \n"
     ]
    },
    {
     "data": {
      "text/plain": [
       "(None, 0)"
      ]
     },
     "execution_count": 97,
     "metadata": {},
     "output_type": "execute_result"
    }
   ],
   "source": [
    "odds = data_preprocessing.iloc[0]\n",
    "odds[\"1\"] = 1.5\n",
    "\n",
    "predictor.get_bet(odds)"
   ]
  },
  {
   "cell_type": "code",
   "execution_count": 90,
   "metadata": {
    "collapsed": false
   },
   "outputs": [
    {
     "data": {
      "text/plain": [
       "team1          Greenbay Hoppers FC\n",
       "team2                       SAP FC\n",
       "1                              2.9\n",
       "x                              3.9\n",
       "2                              5.2\n",
       "pnl_1                        14.25\n",
       "pnl_x                          -10\n",
       "pnl_2                          -10\n",
       "winner                           1\n",
       "team1_label                   5715\n",
       "team2_label                  10146\n",
       "prob_1                         0.4\n",
       "prob_x                     0.25641\n",
       "prob_2                    0.192308\n",
       "Name: 70594, dtype: object"
      ]
     },
     "execution_count": 90,
     "metadata": {},
     "output_type": "execute_result"
    }
   ],
   "source": [
    "odds"
   ]
  },
  {
   "cell_type": "code",
   "execution_count": 161,
   "metadata": {
    "collapsed": false
   },
   "outputs": [
    {
     "data": {
      "image/png": "[encoded data removed]",
      "text/plain": [
       "<matplotlib.figure.Figure at 0x191de9b0>"
      ]
     },
     "metadata": {},
     "output_type": "display_data"
    }
   ],
   "source": [
    "data_preprocessing[[\"prob_1\", \"prob_x\", \"prob_1\"]].sum(axis = 1).hist(bins = 100)\n",
    "plt.show()"
   ]
  },
  {
   "cell_type": "code",
   "execution_count": 109,
   "metadata": {
    "collapsed": true
   },
   "outputs": [],
   "source": [
    "data_preprocessing[data_preprocessing[[\"prob_1\", \"prob_x\", \"prob_1\"]].sum(axis = 1)<0.1].to_clipboard()"
   ]
  },
  {
   "cell_type": "code",
   "execution_count": 110,
   "metadata": {
    "collapsed": true
   },
   "outputs": [],
   "source": [
    "a = (1, 2, 3)"
   ]
  },
  {
   "cell_type": "code",
   "execution_count": 111,
   "metadata": {
    "collapsed": false
   },
   "outputs": [
    {
     "data": {
      "text/plain": [
       "(1, 2, 3, 1, 2, 3)"
      ]
     },
     "execution_count": 111,
     "metadata": {},
     "output_type": "execute_result"
    }
   ],
   "source": [
    "a + (1, 2, 3)"
   ]
  },
  {
   "cell_type": "code",
   "execution_count": 112,
   "metadata": {
    "collapsed": false
   },
   "outputs": [
    {
     "data": {
      "text/plain": [
       "20.56"
      ]
     },
     "execution_count": 112,
     "metadata": {},
     "output_type": "execute_result"
    }
   ],
   "source": [
    "round(20.5555555,2)"
   ]
  },
  {
   "cell_type": "code",
   "execution_count": 163,
   "metadata": {
    "collapsed": true
   },
   "outputs": [],
   "source": [
    "data.to_clipboard(sep = \";\")"
   ]
  },
  {
   "cell_type": "code",
   "execution_count": 195,
   "metadata": {
    "collapsed": false
   },
   "outputs": [
    {
     "data": {
      "text/plain": [
       "13293"
      ]
     },
     "execution_count": 195,
     "metadata": {},
     "output_type": "execute_result"
    }
   ],
   "source": [
    "len(data_preprocessing)"
   ]
  },
  {
   "cell_type": "code",
   "execution_count": null,
   "metadata": {
    "collapsed": true
   },
   "outputs": [],
   "source": []
  }
 ],
 "metadata": {
  "kernelspec": {
   "display_name": "Python [Root]",
   "language": "python",
   "name": "Python [Root]"
  },
  "language_info": {
   "codemirror_mode": {
    "name": "ipython",
    "version": 3
   },
   "file_extension": ".py",
   "mimetype": "text/x-python",
   "name": "python",
   "nbconvert_exporter": "python",
   "pygments_lexer": "ipython3",
   "version": "3.5.2"
  }
 },
 "nbformat": 4,
 "nbformat_minor": 2
}
