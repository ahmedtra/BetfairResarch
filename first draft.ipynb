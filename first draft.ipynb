{
 "cells": [
  {
   "cell_type": "code",
   "execution_count": 1,
   "metadata": {},
   "outputs": [],
   "source": [
    "import pandas as pd\n",
    "import numpy as np\n",
    "import warnings\n",
    "warnings.filterwarnings(\"ignore\")\n",
    "data = pd.read_csv(\"betodds.csv\", header = 0, index_col = 0, encoding = \"cp1252\", sep = \";\")"
   ]
  },
  {
   "cell_type": "code",
   "execution_count": 2,
   "metadata": {},
   "outputs": [],
   "source": [
    "def split_team(s, i):\n",
    "    if isinstance(s, str):\n",
    "        teams = s.split(\" v \")\n",
    "        if len(teams) > i:\n",
    "            return teams[i]\n",
    "        else:\n",
    "            return None\n",
    "    else:\n",
    "        return None\n",
    "\n",
    "data[\"team1\"] = data[\"event_name\"].apply(lambda x: split_team(x,0))\n",
    "data[\"team2\"] = data[\"event_name\"].apply(lambda x:split_team(x, 1))\n"
   ]
  },
  {
   "cell_type": "code",
   "execution_count": 3,
   "metadata": {},
   "outputs": [],
   "source": [
    "def pnl_per_runner(data, fee = 0.05, stake = 10):\n",
    "    data = data.copy()\n",
    "    targets = [\"1\",\"x\",\"2\"]\n",
    "    for target in targets:\n",
    "        pls = []\n",
    "        for i, odds in data.iterrows():\n",
    "                pl = ((float(odds[target]) - 1) * stake) * (1 - fee) if target == odds[\"winner\"] else -stake \n",
    "                pls.append(pl)\n",
    "\n",
    "        data[\"pnl_\"+target] = pls\n",
    "    return data\n",
    "\n",
    "data = pnl_per_runner(data)"
   ]
  },
  {
   "cell_type": "code",
   "execution_count": 4,
   "metadata": {},
   "outputs": [
    {
     "data": {
      "text/plain": [
       "MLPClassifier(alpha=1, hidden_layer_sizes=(3, 3, 3), random_state=1,\n",
       "              solver='lbfgs')"
      ]
     },
     "execution_count": 4,
     "metadata": {},
     "output_type": "execute_result"
    }
   ],
   "source": [
    "import matplotlib.pyplot as plt\n",
    "from sklearn.neural_network import MLPClassifier\n",
    "data_fit = data.iloc[:70000]\n",
    "data_fit = data_fit[data_fit.astype(str) != \"\\\\N\"].dropna()\n",
    "X = data_fit[[\"1\", \"x\", \"2\"]]\n",
    "Y = data_fit[\"winner\"]\n",
    "data_out = data.iloc[70001:100000]\n",
    "data_out = data_out[data_out != \"\\\\N\"].dropna()\n",
    "X_out = data_out[[\"1\", \"x\", \"2\"]]\n",
    "Y_out = data_out[\"winner\"]\n",
    "clf = MLPClassifier(solver='lbfgs', alpha=1,\n",
    "                     hidden_layer_sizes=(3, 3, 3), random_state=1)\n",
    "#RandomForestClassifier(max_depth=5, n_estimators=10, max_features=1)\n",
    "clf.fit(X,Y)\n"
   ]
  },
  {
   "cell_type": "code",
   "execution_count": 5,
   "metadata": {},
   "outputs": [
    {
     "name": "stdout",
     "output_type": "stream",
     "text": [
      "0.560060721805984\n",
      "0.565106874638937\n"
     ]
    }
   ],
   "source": [
    "print(clf.score(X, Y))\n",
    "print(clf.score(X_out, Y_out))"
   ]
  },
  {
   "cell_type": "code",
   "execution_count": 6,
   "metadata": {},
   "outputs": [
    {
     "name": "stdout",
     "output_type": "stream",
     "text": [
      "error rate: 0.43\n"
     ]
    },
    {
     "data": {
      "text/html": [
       "<div>\n",
       "<style scoped>\n",
       "    .dataframe tbody tr th:only-of-type {\n",
       "        vertical-align: middle;\n",
       "    }\n",
       "\n",
       "    .dataframe tbody tr th {\n",
       "        vertical-align: top;\n",
       "    }\n",
       "\n",
       "    .dataframe thead th {\n",
       "        text-align: right;\n",
       "    }\n",
       "</style>\n",
       "<table border=\"1\" class=\"dataframe\">\n",
       "  <thead>\n",
       "    <tr style=\"text-align: right;\">\n",
       "      <th>Predicted label</th>\n",
       "      <th>1</th>\n",
       "      <th>x</th>\n",
       "      <th>2</th>\n",
       "    </tr>\n",
       "    <tr>\n",
       "      <th>True label</th>\n",
       "      <th></th>\n",
       "      <th></th>\n",
       "      <th></th>\n",
       "    </tr>\n",
       "  </thead>\n",
       "  <tbody>\n",
       "    <tr>\n",
       "      <th>1</th>\n",
       "      <td>10158</td>\n",
       "      <td>1545</td>\n",
       "      <td>0</td>\n",
       "    </tr>\n",
       "    <tr>\n",
       "      <th>x</th>\n",
       "      <td>3446</td>\n",
       "      <td>4515</td>\n",
       "      <td>0</td>\n",
       "    </tr>\n",
       "    <tr>\n",
       "      <th>2</th>\n",
       "      <td>4321</td>\n",
       "      <td>1980</td>\n",
       "      <td>0</td>\n",
       "    </tr>\n",
       "  </tbody>\n",
       "</table>\n",
       "</div>"
      ],
      "text/plain": [
       "Predicted label      1     x  2\n",
       "True label                     \n",
       "1                10158  1545  0\n",
       "x                 3446  4515  0\n",
       "2                 4321  1980  0"
      ]
     },
     "execution_count": 6,
     "metadata": {},
     "output_type": "execute_result"
    }
   ],
   "source": [
    "from sklearn.metrics import confusion_matrix as sk_confusion_matrix\n",
    "\n",
    "# the larger operator will return a boolean array which we will cast as integers for fancy indexing\n",
    "Y_pred = clf.predict(X_out)\n",
    "\n",
    "def confusion_matrix(y_test, y_pred):\n",
    "    cm = sk_confusion_matrix(y_test, y_pred)\n",
    "    cm = pd.DataFrame(data=cm, columns=[\"1\", \"x\", \"2\"], index=[\"1\", \"x\", \"2\"])\n",
    "    cm.columns.name = 'Predicted label'\n",
    "    cm.index.name = 'True label'\n",
    "    error_rate = (y_pred != y_test).mean()\n",
    "    print('error rate: %.2f' % error_rate)\n",
    "    return cm\n",
    "\n",
    "confusion_matrix(Y_out, Y_pred)"
   ]
  },
  {
   "cell_type": "raw",
   "metadata": {},
   "source": [
    "import numpy as np\n",
    "import matplotlib.pyplot as plt\n",
    "from matplotlib.colors import ListedColormap\n",
    "from sklearn.model_selection import train_test_split\n",
    "from sklearn.preprocessing import StandardScaler\n",
    "from sklearn.datasets import make_moons, make_circles, make_classification\n",
    "from sklearn.neural_network import MLPClassifier\n",
    "from sklearn.neighbors import KNeighborsClassifier\n",
    "from sklearn.svm import SVC\n",
    "from sklearn.gaussian_process import GaussianProcessClassifier\n",
    "from sklearn.gaussian_process.kernels import RBF\n",
    "from sklearn.tree import DecisionTreeClassifier\n",
    "from sklearn.ensemble import RandomForestClassifier, AdaBoostClassifier\n",
    "from sklearn.naive_bayes import GaussianNB\n",
    "from sklearn.discriminant_analysis import QuadraticDiscriminantAnalysis\n",
    "\n",
    "h = .02  # step size in the mesh\n",
    "\n",
    "names = [#\"Nearest Neighbors\", \"Linear SVM\", \"RBF SVM\", \"Gaussian Process\",\n",
    "         \"Decision Tree\", \"Random Forest\", \"Neural Net\", \"AdaBoost\",\n",
    "         \"Naive Bayes\", \"QDA\"]\n",
    "\n",
    "classifiers = [\n",
    "    #KNeighborsClassifier(3),\n",
    "    #SVC(kernel=\"linear\", C=0.025),\n",
    "    #SVC(gamma=2, C=1),\n",
    "    #GaussianProcessClassifier(1.0 * RBF(1.0), warm_start=True),\n",
    "    DecisionTreeClassifier(max_depth=5),\n",
    "    RandomForestClassifier(max_depth=5, n_estimators=10, max_features=1),\n",
    "    MLPClassifier(alpha=1),\n",
    "    AdaBoostClassifier(),\n",
    "    GaussianNB(),\n",
    "    QuadraticDiscriminantAnalysis()]\n",
    "\n",
    "X, y = X, Y\n",
    "X = StandardScaler().fit_transform(X)\n",
    "X_train, X_test, y_train, y_test = \\\n",
    "    train_test_split(X, y, test_size=.4, random_state=42)\n",
    "\n",
    "# ju\n",
    "# iterate over classifiers\n",
    "for name, clf in zip(names, classifiers):\n",
    "    clf.fit(X_train, y_train)\n",
    "    score = clf.score(X_train, y_train)\n",
    "    score_out = clf.score(X_test, y_test)\n",
    "    print(name)\n",
    "    print(score)\n",
    "    print(score_out)\n",
    "    Y_pred = clf.predict(X_test)\n",
    "    cm = confusion_matrix(y_test, Y_pred)\n",
    "    print(cm)"
   ]
  },
  {
   "cell_type": "code",
   "execution_count": 7,
   "metadata": {},
   "outputs": [
    {
     "name": "stdout",
     "output_type": "stream",
     "text": [
      "0.7363513626521546\n",
      "-3.5608430679488308\n",
      "0.6929308087886452\n",
      "-0.4726831242021585\n",
      "0.7022803817429846\n",
      "-0.12750123048338846\n",
      "0.7704264039552355\n",
      "0.7704264039552355\n",
      "0.6495932759140057\n",
      "0.6495932759140057\n",
      "0.6790478926811037\n",
      "0.6790478926811037\n"
     ]
    }
   ],
   "source": [
    "import matplotlib.pyplot as plt\n",
    "from sklearn.neural_network import MLPClassifier\n",
    "from sklearn.ensemble import RandomForestRegressor\n",
    "data_COL = data[[\"team1\",\"team2\",\"1\",\"x\",\"2\",\"pnl_1\",\"pnl_x\",\"pnl_2\", \"winner\"]]\n",
    "data_fit = data_COL.iloc[:70000]\n",
    "data_fit = data_fit[data_fit.astype(str) != \"\\\\N\"].dropna()\n",
    "data_out = data_COL.iloc[70001:100000]\n",
    "data_out = data_out[data_out.astype(str) != \"\\\\N\"].dropna()\n",
    "def prediction(data_fit, data_out, target):\n",
    "    X = data_fit[[\"1\", \"x\", \"2\"]]\n",
    "    Y = data_fit[target]\n",
    "    #Y = data_fit[\"winner\"] == \"x\"\n",
    "    X_out = data_out[[\"1\", \"x\", \"2\"]]\n",
    "    Y_out = data_out[target]\n",
    "    #clf = RandomForestClassifier(max_depth=10, n_estimators=20, max_features=3)\n",
    "    clf = RandomForestRegressor(max_depth=10, n_estimators=20, max_features=3)\n",
    "    clf.fit(X,Y)\n",
    "    print(clf.score(X, Y))\n",
    "    print(clf.score(X_out, Y_out))\n",
    "    Y_pred = clf.predict(X_out)\n",
    "    return Y_pred\n",
    "\n",
    "data_out[\"pred_1\"] = prediction(data_fit, data_out, \"pnl_1\")\n",
    "data_out[\"pred_x\"] = prediction(data_fit, data_out, \"pnl_x\")\n",
    "data_out[\"pred_2\"] = prediction(data_fit, data_out, \"pnl_2\")\n",
    "\n",
    "\n",
    "data_fit[\"pred_1\"] = prediction(data_fit, data_fit, \"pnl_1\")\n",
    "data_fit[\"pred_x\"] = prediction(data_fit, data_fit, \"pnl_x\")\n",
    "data_fit[\"pred_2\"] = prediction(data_fit, data_fit, \"pnl_2\")\n",
    "    #confusion_matrix(Y_out, Y_pred)"
   ]
  },
  {
   "cell_type": "code",
   "execution_count": 8,
   "metadata": {},
   "outputs": [],
   "source": [
    "def pnl(pred, fee = 0.05, stake = 10):\n",
    "    data = pred.copy()\n",
    "    pls = []\n",
    "    for i, odds in data.iterrows():\n",
    "        pl = ((float(odds[odds[\"pred\"]]) - 1) * stake) * (1 - fee) if odds[\"pred\"] == odds[\"winner\"] else -stake \n",
    "        pls.append(pl)\n",
    "    data[\"pnl\"] = pls\n",
    "    data[\"cum_pnl\"] = data[\"pnl\"].cumsum()\n",
    "    return data"
   ]
  },
  {
   "cell_type": "code",
   "execution_count": 9,
   "metadata": {},
   "outputs": [],
   "source": [
    "def pnl_target(pred, fee = 0.05, stake = 10, target = \"x\", max_odds = 2, min_odds = 1.2, scale_with_pred = True):\n",
    "    data = pred.copy()\n",
    "    pls = []\n",
    "    runners  = [\"1\",\"x\",\"2\"]\n",
    "    for i, odds in data.iterrows():\n",
    "        target = \"1\"\n",
    "        for r in runners:\n",
    "            if float(odds[\"pred_\"+r]) > float(odds[\"pred_\"+target]):\n",
    "                target = r\n",
    "        if odds[\"pred_\"+target] >0 and float(odds[target])<max_odds  and float(odds[target])>min_odds:\n",
    "            pl = ((float(odds[target]) - 1) * stake) * (1 - fee) if target == odds[\"winner\"] else -stake \n",
    "            pl = pl * odds[\"pred_\"+target] if scale_with_pred else pl\n",
    "            pls.append(pl)\n",
    "        else:\n",
    "            pls.append(0)\n",
    "    data[\"pnl\"] = pls\n",
    "    data.index = range(len(data))\n",
    "    data[\"cum_pnl\"] = data[\"pnl\"].cumsum()\n",
    "    data[\"drawdown\"] = data[\"cum_pnl\"].cummax() - data[\"cum_pnl\"]\n",
    "    m = (data[data[\"pnl\"] != 0])[\"pnl\"].mean()\n",
    "    s = (data[data[\"pnl\"] != 0])[\"pnl\"].std()\n",
    "    sharpe = m/s\n",
    "    print(m)\n",
    "    print(s)\n",
    "    print(data[\"drawdown\"].max())\n",
    "    print(sharpe)\n",
    "    return data"
   ]
  },
  {
   "cell_type": "code",
   "execution_count": 10,
   "metadata": {},
   "outputs": [
    {
     "name": "stdout",
     "output_type": "stream",
     "text": [
      "13.700756070640137\n",
      "59.112938244970955\n",
      "585.6100000000006\n",
      "0.2317725438357098\n"
     ]
    }
   ],
   "source": [
    "pl = pnl_target(data_out, target = \"x\", max_odds = 2, min_odds = 1.2, fee = 0.07, scale_with_pred = False, stake = 100)"
   ]
  },
  {
   "cell_type": "code",
   "execution_count": 11,
   "metadata": {},
   "outputs": [
    {
     "data": {
      "image/png": "[encoded data removed]",
      "text/plain": [
       "<Figure size 432x288 with 1 Axes>"
      ]
     },
     "metadata": {
      "needs_background": "light"
     },
     "output_type": "display_data"
    }
   ],
   "source": [
    "from matplotlib import pyplot as plt\n",
    "pl[\"cum_pnl\"].plot()\n",
    "pl[\"drawdown\"].plot()\n",
    "plt.show()"
   ]
  },
  {
   "cell_type": "code",
   "execution_count": 12,
   "metadata": {},
   "outputs": [],
   "source": [
    "pl.to_csv(\"pred.csv\", sep = \";\")"
   ]
  },
  {
   "cell_type": "code",
   "execution_count": null,
   "metadata": {
    "collapsed": true
   },
   "outputs": [],
   "source": [
    "import tensorflow as tf"
   ]
  }
 ],
 "metadata": {
  "kernelspec": {
   "display_name": "Python 3 (ipykernel)",
   "language": "python",
   "name": "python3"
  },
  "language_info": {
   "codemirror_mode": {
    "name": "ipython",
    "version": 3
   },
   "file_extension": ".py",
   "mimetype": "text/x-python",
   "name": "python",
   "nbconvert_exporter": "python",
   "pygments_lexer": "ipython3",
   "version": "3.9.7"
  }
 },
 "nbformat": 4,
 "nbformat_minor": 2
}
