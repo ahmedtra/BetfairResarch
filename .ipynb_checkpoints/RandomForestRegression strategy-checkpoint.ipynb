{
 "cells": [
  {
   "cell_type": "code",
   "execution_count": 1,
   "metadata": {},
   "outputs": [
    {
     "name": "stderr",
     "output_type": "stream",
     "text": [
      "c:\\users\\trabelsi\\appdata\\local\\continuum\\anaconda3\\envs\\tensorflow\\lib\\site-packages\\IPython\\core\\interactiveshell.py:2728: DtypeWarning: Columns (13,15) have mixed types. Specify dtype option on import or set low_memory=False.\n",
      "  interactivity=interactivity, compiler=compiler, result=result)\n"
     ]
    }
   ],
   "source": [
    "import pandas as pd\n",
    "import numpy as np\n",
    "data = pd.read_csv(\"betodds.csv\", header = 0, index_col = 0, encoding = \"cp1252\", sep = \";\")"
   ]
  },
  {
   "cell_type": "code",
   "execution_count": 2,
   "metadata": {},
   "outputs": [],
   "source": [
    "def split_team(s, i):\n",
    "    if isinstance(s, str):\n",
    "        teams = s.split(\" v \")\n",
    "        if len(teams) > i:\n",
    "            return teams[i]\n",
    "        else:\n",
    "            return None\n",
    "    else:\n",
    "        return None\n",
    "\n",
    "data[\"team1\"] = data[\"event_name\"].apply(lambda x: split_team(x,0))\n",
    "data[\"team2\"] = data[\"event_name\"].apply(lambda x:split_team(x, 1))\n"
   ]
  },
  {
   "cell_type": "code",
   "execution_count": 3,
   "metadata": {},
   "outputs": [],
   "source": [
    "def pnl_per_runner(data, fee = 0.05, stake = 10):\n",
    "    data = data.copy()\n",
    "    targets = [\"1\",\"x\",\"2\"]\n",
    "    for target in targets:\n",
    "        pls = []\n",
    "        for i, odds in data.iterrows():\n",
    "                pl = ((float(odds[target]) - 1) * stake) * (1 - fee) if target == odds[\"winner\"] else -stake \n",
    "                pls.append(pl)\n",
    "\n",
    "        data[\"pnl_\"+target] = pls\n",
    "    return data\n",
    "\n",
    "data = pnl_per_runner(data)"
   ]
  },
  {
   "cell_type": "code",
   "execution_count": 146,
   "metadata": {},
   "outputs": [],
   "source": [
    "import matplotlib.pyplot as plt\n",
    "from sklearn.preprocessing import LabelEncoder\n",
    "from sklearn.ensemble import RandomForestRegressor\n",
    "data_preprocessing = data[[\"team1\",\"team2\",\"1\",\"x\",\"2\",\"pnl_1\",\"pnl_x\",\"pnl_2\", \"winner\"]]\n",
    "data_preprocessing = data_preprocessing[data_preprocessing.astype(str) != \"\\\\N\"].dropna().copy()\n",
    "all_teams = list(data_preprocessing[\"team1\"].values) + list(data_preprocessing[\"team2\"].values) \n",
    "le = LabelEncoder()\n",
    "le.fit(all_teams)\n",
    "data_preprocessing[\"team1_label\"] = le.transform(data_preprocessing[\"team1\"])\n",
    "data_preprocessing[\"team2_label\"] = le.transform(data_preprocessing[\"team2\"])\n",
    "\n",
    "data_preprocessing[\"1\"] = data_preprocessing[\"1\"].astype(float)\n",
    "data_preprocessing[\"x\"] = data_preprocessing[\"x\"].astype(float)\n",
    "data_preprocessing[\"2\"] = data_preprocessing[\"2\"].astype(float)\n",
    "\n",
    "data_preprocessing[\"prob_1\"] = 1/data_preprocessing[\"1\"]\n",
    "data_preprocessing[\"prob_x\"] = 1/data_preprocessing[\"x\"]\n",
    "data_preprocessing[\"prob_2\"] = 1/data_preprocessing[\"2\"]\n"
   ]
  },
  {
   "cell_type": "code",
   "execution_count": 250,
   "metadata": {},
   "outputs": [
    {
     "name": "stdout",
     "output_type": "stream",
     "text": [
      "0.70629936961\n",
      "-2.4506124327\n",
      "0.760599940503\n",
      "-0.462788043642\n",
      "0.744584746188\n",
      "-0.0647284761037\n",
      "0.70629936961\n",
      "0.70629936961\n",
      "0.760599940503\n",
      "0.760599940503\n",
      "0.744584746188\n",
      "0.744584746188\n",
      "0.70629936961\n",
      "-2.08185977207\n",
      "0.760599940503\n",
      "-0.294791551508\n",
      "0.744584746188\n",
      "-0.211275212093\n"
     ]
    }
   ],
   "source": [
    "data_fit = data_preprocessing.iloc[:70000].copy()\n",
    "data_cv = data_preprocessing.iloc[70001:100000].copy()\n",
    "data_out = data_preprocessing.iloc[100001:].copy()\n",
    "predictors = [\"team1_label\",\"team2_label\",\"1\", \"x\", \"2\"]\n",
    "clf = RandomForestRegressor(max_depth=10, n_estimators=20, max_features=5, random_state = 1)\n",
    "\n",
    "def prediction(data_fit, data_out, target, clf, predictors):\n",
    "    X = data_fit[predictors]\n",
    "    Y = data_fit[target]\n",
    "    #Y = data_fit[\"winner\"] == \"x\"\n",
    "    X_out = data_out[predictors]\n",
    "    Y_out = data_out[target]\n",
    "    #clf = RandomForestClassifier(max_depth=10, n_estimators=20, max_features=3)\n",
    "    \n",
    "    clf.fit(X,Y)\n",
    "    print(clf.score(X, Y))\n",
    "    print(clf.score(X_out, Y_out))\n",
    "    Y_pred = clf.predict(X_out)\n",
    "    return Y_pred\n",
    "\n",
    "data_cv[\"pred_1\"] = prediction(data_fit, data_cv, \"pnl_1\", clf, predictors)\n",
    "data_cv[\"pred_x\"] = prediction(data_fit, data_cv, \"pnl_x\", clf, predictors)\n",
    "data_cv[\"pred_2\"] = prediction(data_fit, data_cv, \"pnl_2\", clf, predictors)\n",
    "\n",
    "\n",
    "data_fit[\"pred_1\"] = prediction(data_fit, data_fit, \"pnl_1\", clf, predictors)\n",
    "data_fit[\"pred_x\"] = prediction(data_fit, data_fit, \"pnl_x\", clf, predictors)\n",
    "data_fit[\"pred_2\"] = prediction(data_fit, data_fit, \"pnl_2\", clf, predictors)\n",
    "\n",
    "\n",
    "data_out[\"pred_1\"] = prediction(data_fit, data_out, \"pnl_1\", clf, predictors)\n",
    "data_out[\"pred_x\"] = prediction(data_fit, data_out, \"pnl_x\", clf, predictors)\n",
    "data_out[\"pred_2\"] = prediction(data_fit, data_out, \"pnl_2\", clf, predictors)\n"
   ]
  },
  {
   "cell_type": "code",
   "execution_count": 355,
   "metadata": {},
   "outputs": [],
   "source": [
    "def pnl_target(pred, fee = 0.05, stake = 10, max_odds = 2, min_odds = 1.2, \n",
    "               scale_with_pred = True, scale_with_odds = False, target_restrict = None,\n",
    "              min_pred = 0):\n",
    "    data = pred.copy()\n",
    "    pls = []\n",
    "    targets = []\n",
    "    runners  = [\"1\",\"x\",\"2\"]\n",
    "    for i, odds in data.iterrows():\n",
    "        target = \"1\"\n",
    "        for r in runners:\n",
    "            if float(odds[\"pred_\"+r]) > float(odds[\"pred_\"+target]):\n",
    "                target = r\n",
    "        \n",
    "        restricted = target_restrict is None or target in target_restrict\n",
    "        \n",
    "        if odds[\"pred_\"+target] > min_pred and float(odds[target])<max_odds  and float(odds[target])>min_odds and restricted:\n",
    "            stake_adjusted = stake\n",
    "            \n",
    "            if scale_with_odds:\n",
    "                stake_adjusted = stake_adjusted / float(odds[target])\n",
    "            \n",
    "            if scale_with_pred:\n",
    "                stake_adjusted = stake_adjusted * max(min(odds[\"pred_\"+target], 5), 0.5)\n",
    "                \n",
    "            pl = ((float(odds[target]) - 1) * stake_adjusted) * (1 - fee) if target == odds[\"winner\"] else - stake_adjusted \n",
    "            pls.append(pl)\n",
    "            targets.append(target)\n",
    "        else:\n",
    "            pls.append(0)\n",
    "            targets.append(target)\n",
    "    data[\"pnl\"] = pls\n",
    "    data[\"bet\"] = targets\n",
    "    data.index = range(len(data))\n",
    "    data[\"cum_pnl\"] = data[\"pnl\"].cumsum()\n",
    "    data[\"drawdown\"] = data[\"cum_pnl\"].cummax() - data[\"cum_pnl\"]\n",
    "    m = (data[data[\"pnl\"] != 0])[\"pnl\"].mean()\n",
    "    s = (data[data[\"pnl\"] != 0])[\"pnl\"].std()\n",
    "    print(len(data[data[\"pnl\"] != 0]) / len(data))\n",
    "    sharpe = m/s\n",
    "    print(m)\n",
    "    print(s)\n",
    "    print(data[\"drawdown\"].max())\n",
    "    print(sharpe * np.sqrt(100))\n",
    "    return data"
   ]
  },
  {
   "cell_type": "code",
   "execution_count": 356,
   "metadata": {},
   "outputs": [
    {
     "name": "stdout",
     "output_type": "stream",
     "text": [
      "0.041168038934631154\n",
      "71.0378702448\n",
      "157.38119413\n",
      "763.881852651\n",
      "4.51374579012\n"
     ]
    }
   ],
   "source": [
    "pl = pnl_target(data_cv, max_odds = 4, min_odds = 1.1, fee = 0.1, \n",
    "                target_restrict = None, scale_with_pred = True, \n",
    "                stake = 50, scale_with_odds = False, min_pred = 0.5)"
   ]
  },
  {
   "cell_type": "code",
   "execution_count": 357,
   "metadata": {},
   "outputs": [
    {
     "data": {
      "image/png": "[encoded data removed]",
      "text/plain": [
       "<matplotlib.figure.Figure at 0x1fc56fa0ef0>"
      ]
     },
     "metadata": {},
     "output_type": "display_data"
    }
   ],
   "source": [
    "from matplotlib import pyplot as plt\n",
    "pl[\"cum_pnl\"].plot()\n",
    "pl[\"drawdown\"].plot()\n",
    "plt.show()"
   ]
  },
  {
   "cell_type": "code",
   "execution_count": 302,
   "metadata": {},
   "outputs": [
    {
     "name": "stdout",
     "output_type": "stream",
     "text": [
      "0.03424713031735314\n",
      "31.623659306\n",
      "80.7058776181\n",
      "664.0\n",
      "3.91838367159\n"
     ]
    }
   ],
   "source": [
    "pl = pnl_target(data_out, max_odds = 4, min_odds = 1.1, fee = 0.1, \n",
    "                target_restrict = None, scale_with_pred = False, \n",
    "                stake = 100, scale_with_odds = False, min_pred = 0.5)"
   ]
  },
  {
   "cell_type": "code",
   "execution_count": 303,
   "metadata": {},
   "outputs": [
    {
     "data": {
      "image/png": "[encoded data removed]",
      "text/plain": [
       "<matplotlib.figure.Figure at 0x1fc5c4fbdd8>"
      ]
     },
     "metadata": {},
     "output_type": "display_data"
    }
   ],
   "source": [
    "from matplotlib import pyplot as plt\n",
    "pl[\"cum_pnl\"].plot()\n",
    "pl[\"drawdown\"].plot()\n",
    "plt.show()"
   ]
  },
  {
   "cell_type": "code",
   "execution_count": 333,
   "metadata": {},
   "outputs": [],
   "source": [
    "pl.to_csv(\"pred_1.csv\", sep = \";\")"
   ]
  },
  {
   "cell_type": "code",
   "execution_count": 305,
   "metadata": {},
   "outputs": [
    {
     "data": {
      "text/plain": [
       "137026"
      ]
     },
     "execution_count": 305,
     "metadata": {},
     "output_type": "execute_result"
    }
   ],
   "source": [
    "len(data_preprocessing)"
   ]
  },
  {
   "cell_type": "code",
   "execution_count": null,
   "metadata": {},
   "outputs": [],
   "source": []
  }
 ],
 "metadata": {
  "kernelspec": {
   "display_name": "Python 3",
   "language": "python",
   "name": "python3"
  },
  "language_info": {
   "codemirror_mode": {
    "name": "ipython",
    "version": 3
   },
   "file_extension": ".py",
   "mimetype": "text/x-python",
   "name": "python",
   "nbconvert_exporter": "python",
   "pygments_lexer": "ipython3",
   "version": "3.6.2"
  }
 },
 "nbformat": 4,
 "nbformat_minor": 2
}
