{
 "cells": [
  {
   "cell_type": "code",
   "execution_count": 216,
   "metadata": {},
   "outputs": [],
   "source": [
    "import pandas as pd\n",
    "import numpy as np\n",
    "col = [\"scheduled_off\",\"full_description\",\"competition\",\"competition_type\",\"event_name\",\n",
    "\"team1\",\"team2\",\"1\",\"x\",\"2\",\"vol_1\",\"vol_x\",\"vol_2\",\"bet_1\",\"bet_x\",\"bet_2\",\"favorite_odd\",\"favorite_flag\",\"winner\",\"IP_1\",\"IP_x\",\n",
    "\"IP_2\",\"min_from_start_1\",\"min_from_start_x\",\"min_from_start_2\",\"vm_ep_1\",\"vm_ep_x\",\"vm_ep_2\",\"prob_1\",\"prob_x\",\"prob_2\",\"pnl_1\",\"pnl_x\",\"pnl_2\"]\n",
    "types = [str, str, str, str, str, str, str, float, float, float, float, float ,float, float, \n",
    "         float, float, float ,str, str, str, str, str, float, float, float,  float, float, float]\n",
    "types = {col:t for col, t in zip(col, types)}\n",
    "data = pd.read_csv(\"favorites.csv\", header = 0, index_col = 0, encoding = \"cp1252\", sep = \";\", dtype = types, na_values = [\"\\\\N\"])\n",
    "data = data.reset_index()"
   ]
  },
  {
   "cell_type": "code",
   "execution_count": 201,
   "metadata": {
    "scrolled": true
   },
   "outputs": [],
   "source": [
    "data[\"execution_times\"] = np.abs(data[\"min_from_start_1\"].fillna(300) - data[\"min_from_start_2\"].fillna(600)) \\\n",
    "                        + np.abs(data[\"min_from_start_1\"].fillna(300) - data[\"min_from_start_x\"].fillna(600)) \\\n",
    "                        + np.abs(data[\"min_from_start_2\"].fillna(300) - data[\"min_from_start_x\"].fillna(600))\n",
    "data[\"execution_times\"] = data[\"execution_times\"]\n",
    "\n",
    "data[\"prob_1\"] = 1/ data[\"1\"]\n",
    "data[\"prob_x\"] = 1/ data[\"x\"]\n",
    "data[\"prob_2\"] = 1/ data[\"2\"]\n",
    "data[\"sum_prob\"] = data[\"prob_1\"]+data[\"prob_x\"]+data[\"prob_2\"]\n",
    "data[\"1\"] = data[\"1\"] * data[\"sum_prob\"]\n",
    "data[\"2\"] = data[\"2\"] * data[\"sum_prob\"]\n",
    "data[\"x\"] = data[\"x\"] * data[\"sum_prob\"]"
   ]
  },
  {
   "cell_type": "code",
   "execution_count": 217,
   "metadata": {},
   "outputs": [
    {
     "ename": "KeyError",
     "evalue": "'execution_times'",
     "traceback": [
      "\u001b[1;31m---------------------------------------------------------------------------\u001b[0m",
      "\u001b[1;31mKeyError\u001b[0m                                  Traceback (most recent call last)",
      "\u001b[1;32mc:\\users\\betfair\\anaconda3\\envs\\research\\lib\\site-packages\\pandas\\core\\indexes\\base.py\u001b[0m in \u001b[0;36mget_loc\u001b[1;34m(self, key, method, tolerance)\u001b[0m\n\u001b[0;32m   2392\u001b[0m             \u001b[1;32mtry\u001b[0m\u001b[1;33m:\u001b[0m\u001b[1;33m\u001b[0m\u001b[0m\n\u001b[1;32m-> 2393\u001b[1;33m                 \u001b[1;32mreturn\u001b[0m \u001b[0mself\u001b[0m\u001b[1;33m.\u001b[0m\u001b[0m_engine\u001b[0m\u001b[1;33m.\u001b[0m\u001b[0mget_loc\u001b[0m\u001b[1;33m(\u001b[0m\u001b[0mkey\u001b[0m\u001b[1;33m)\u001b[0m\u001b[1;33m\u001b[0m\u001b[0m\n\u001b[0m\u001b[0;32m   2394\u001b[0m             \u001b[1;32mexcept\u001b[0m \u001b[0mKeyError\u001b[0m\u001b[1;33m:\u001b[0m\u001b[1;33m\u001b[0m\u001b[0m\n",
      "\u001b[1;32mpandas\\_libs\\index.pyx\u001b[0m in \u001b[0;36mpandas._libs.index.IndexEngine.get_loc (pandas\\_libs\\index.c:5239)\u001b[1;34m()\u001b[0m\n",
      "\u001b[1;32mpandas\\_libs\\index.pyx\u001b[0m in \u001b[0;36mpandas._libs.index.IndexEngine.get_loc (pandas\\_libs\\index.c:5085)\u001b[1;34m()\u001b[0m\n",
      "\u001b[1;32mpandas\\_libs\\hashtable_class_helper.pxi\u001b[0m in \u001b[0;36mpandas._libs.hashtable.PyObjectHashTable.get_item (pandas\\_libs\\hashtable.c:20405)\u001b[1;34m()\u001b[0m\n",
      "\u001b[1;32mpandas\\_libs\\hashtable_class_helper.pxi\u001b[0m in \u001b[0;36mpandas._libs.hashtable.PyObjectHashTable.get_item (pandas\\_libs\\hashtable.c:20359)\u001b[1;34m()\u001b[0m\n",
      "\u001b[1;31mKeyError\u001b[0m: 'execution_times'",
      "\nDuring handling of the above exception, another exception occurred:\n",
      "\u001b[1;31mKeyError\u001b[0m                                  Traceback (most recent call last)",
      "\u001b[1;32m<ipython-input-217-11defcc6d2ae>\u001b[0m in \u001b[0;36m<module>\u001b[1;34m()\u001b[0m\n\u001b[1;32m----> 1\u001b[1;33m \u001b[0mdata\u001b[0m\u001b[1;33m[\u001b[0m\u001b[1;34m\"execution_times\"\u001b[0m\u001b[1;33m]\u001b[0m\u001b[1;33m[\u001b[0m\u001b[0mdata\u001b[0m\u001b[1;33m[\u001b[0m\u001b[1;34m\"execution_times\"\u001b[0m\u001b[1;33m]\u001b[0m \u001b[1;33m<\u001b[0m \u001b[1;36m10\u001b[0m\u001b[1;33m]\u001b[0m\u001b[1;33m.\u001b[0m\u001b[0mhist\u001b[0m\u001b[1;33m(\u001b[0m\u001b[0mbins\u001b[0m \u001b[1;33m=\u001b[0m \u001b[1;36m100\u001b[0m\u001b[1;33m)\u001b[0m\u001b[1;33m\u001b[0m\u001b[0m\n\u001b[0m\u001b[0;32m      2\u001b[0m \u001b[1;33m\u001b[0m\u001b[0m\n\u001b[0;32m      3\u001b[0m \u001b[0mplt\u001b[0m\u001b[1;33m.\u001b[0m\u001b[0mshow\u001b[0m\u001b[1;33m(\u001b[0m\u001b[1;33m)\u001b[0m\u001b[1;33m\u001b[0m\u001b[0m\n\u001b[0;32m      4\u001b[0m \u001b[0mdata\u001b[0m \u001b[1;33m=\u001b[0m \u001b[0mdata\u001b[0m\u001b[1;33m[\u001b[0m\u001b[0mdata\u001b[0m\u001b[1;33m[\u001b[0m\u001b[1;34m\"execution_times\"\u001b[0m\u001b[1;33m]\u001b[0m \u001b[1;33m<\u001b[0m \u001b[1;36m10\u001b[0m\u001b[1;33m]\u001b[0m\u001b[1;33m\u001b[0m\u001b[0m\n",
      "\u001b[1;32mc:\\users\\betfair\\anaconda3\\envs\\research\\lib\\site-packages\\pandas\\core\\frame.py\u001b[0m in \u001b[0;36m__getitem__\u001b[1;34m(self, key)\u001b[0m\n\u001b[0;32m   2060\u001b[0m             \u001b[1;32mreturn\u001b[0m \u001b[0mself\u001b[0m\u001b[1;33m.\u001b[0m\u001b[0m_getitem_multilevel\u001b[0m\u001b[1;33m(\u001b[0m\u001b[0mkey\u001b[0m\u001b[1;33m)\u001b[0m\u001b[1;33m\u001b[0m\u001b[0m\n\u001b[0;32m   2061\u001b[0m         \u001b[1;32melse\u001b[0m\u001b[1;33m:\u001b[0m\u001b[1;33m\u001b[0m\u001b[0m\n\u001b[1;32m-> 2062\u001b[1;33m             \u001b[1;32mreturn\u001b[0m \u001b[0mself\u001b[0m\u001b[1;33m.\u001b[0m\u001b[0m_getitem_column\u001b[0m\u001b[1;33m(\u001b[0m\u001b[0mkey\u001b[0m\u001b[1;33m)\u001b[0m\u001b[1;33m\u001b[0m\u001b[0m\n\u001b[0m\u001b[0;32m   2063\u001b[0m \u001b[1;33m\u001b[0m\u001b[0m\n\u001b[0;32m   2064\u001b[0m     \u001b[1;32mdef\u001b[0m \u001b[0m_getitem_column\u001b[0m\u001b[1;33m(\u001b[0m\u001b[0mself\u001b[0m\u001b[1;33m,\u001b[0m \u001b[0mkey\u001b[0m\u001b[1;33m)\u001b[0m\u001b[1;33m:\u001b[0m\u001b[1;33m\u001b[0m\u001b[0m\n",
      "\u001b[1;32mc:\\users\\betfair\\anaconda3\\envs\\research\\lib\\site-packages\\pandas\\core\\frame.py\u001b[0m in \u001b[0;36m_getitem_column\u001b[1;34m(self, key)\u001b[0m\n\u001b[0;32m   2067\u001b[0m         \u001b[1;31m# get column\u001b[0m\u001b[1;33m\u001b[0m\u001b[1;33m\u001b[0m\u001b[0m\n\u001b[0;32m   2068\u001b[0m         \u001b[1;32mif\u001b[0m \u001b[0mself\u001b[0m\u001b[1;33m.\u001b[0m\u001b[0mcolumns\u001b[0m\u001b[1;33m.\u001b[0m\u001b[0mis_unique\u001b[0m\u001b[1;33m:\u001b[0m\u001b[1;33m\u001b[0m\u001b[0m\n\u001b[1;32m-> 2069\u001b[1;33m             \u001b[1;32mreturn\u001b[0m \u001b[0mself\u001b[0m\u001b[1;33m.\u001b[0m\u001b[0m_get_item_cache\u001b[0m\u001b[1;33m(\u001b[0m\u001b[0mkey\u001b[0m\u001b[1;33m)\u001b[0m\u001b[1;33m\u001b[0m\u001b[0m\n\u001b[0m\u001b[0;32m   2070\u001b[0m \u001b[1;33m\u001b[0m\u001b[0m\n\u001b[0;32m   2071\u001b[0m         \u001b[1;31m# duplicate columns & possible reduce dimensionality\u001b[0m\u001b[1;33m\u001b[0m\u001b[1;33m\u001b[0m\u001b[0m\n",
      "\u001b[1;32mc:\\users\\betfair\\anaconda3\\envs\\research\\lib\\site-packages\\pandas\\core\\generic.py\u001b[0m in \u001b[0;36m_get_item_cache\u001b[1;34m(self, item)\u001b[0m\n\u001b[0;32m   1532\u001b[0m         \u001b[0mres\u001b[0m \u001b[1;33m=\u001b[0m \u001b[0mcache\u001b[0m\u001b[1;33m.\u001b[0m\u001b[0mget\u001b[0m\u001b[1;33m(\u001b[0m\u001b[0mitem\u001b[0m\u001b[1;33m)\u001b[0m\u001b[1;33m\u001b[0m\u001b[0m\n\u001b[0;32m   1533\u001b[0m         \u001b[1;32mif\u001b[0m \u001b[0mres\u001b[0m \u001b[1;32mis\u001b[0m \u001b[1;32mNone\u001b[0m\u001b[1;33m:\u001b[0m\u001b[1;33m\u001b[0m\u001b[0m\n\u001b[1;32m-> 1534\u001b[1;33m             \u001b[0mvalues\u001b[0m \u001b[1;33m=\u001b[0m \u001b[0mself\u001b[0m\u001b[1;33m.\u001b[0m\u001b[0m_data\u001b[0m\u001b[1;33m.\u001b[0m\u001b[0mget\u001b[0m\u001b[1;33m(\u001b[0m\u001b[0mitem\u001b[0m\u001b[1;33m)\u001b[0m\u001b[1;33m\u001b[0m\u001b[0m\n\u001b[0m\u001b[0;32m   1535\u001b[0m             \u001b[0mres\u001b[0m \u001b[1;33m=\u001b[0m \u001b[0mself\u001b[0m\u001b[1;33m.\u001b[0m\u001b[0m_box_item_values\u001b[0m\u001b[1;33m(\u001b[0m\u001b[0mitem\u001b[0m\u001b[1;33m,\u001b[0m \u001b[0mvalues\u001b[0m\u001b[1;33m)\u001b[0m\u001b[1;33m\u001b[0m\u001b[0m\n\u001b[0;32m   1536\u001b[0m             \u001b[0mcache\u001b[0m\u001b[1;33m[\u001b[0m\u001b[0mitem\u001b[0m\u001b[1;33m]\u001b[0m \u001b[1;33m=\u001b[0m \u001b[0mres\u001b[0m\u001b[1;33m\u001b[0m\u001b[0m\n",
      "\u001b[1;32mc:\\users\\betfair\\anaconda3\\envs\\research\\lib\\site-packages\\pandas\\core\\internals.py\u001b[0m in \u001b[0;36mget\u001b[1;34m(self, item, fastpath)\u001b[0m\n\u001b[0;32m   3588\u001b[0m \u001b[1;33m\u001b[0m\u001b[0m\n\u001b[0;32m   3589\u001b[0m             \u001b[1;32mif\u001b[0m \u001b[1;32mnot\u001b[0m \u001b[0misnull\u001b[0m\u001b[1;33m(\u001b[0m\u001b[0mitem\u001b[0m\u001b[1;33m)\u001b[0m\u001b[1;33m:\u001b[0m\u001b[1;33m\u001b[0m\u001b[0m\n\u001b[1;32m-> 3590\u001b[1;33m                 \u001b[0mloc\u001b[0m \u001b[1;33m=\u001b[0m \u001b[0mself\u001b[0m\u001b[1;33m.\u001b[0m\u001b[0mitems\u001b[0m\u001b[1;33m.\u001b[0m\u001b[0mget_loc\u001b[0m\u001b[1;33m(\u001b[0m\u001b[0mitem\u001b[0m\u001b[1;33m)\u001b[0m\u001b[1;33m\u001b[0m\u001b[0m\n\u001b[0m\u001b[0;32m   3591\u001b[0m             \u001b[1;32melse\u001b[0m\u001b[1;33m:\u001b[0m\u001b[1;33m\u001b[0m\u001b[0m\n\u001b[0;32m   3592\u001b[0m                 \u001b[0mindexer\u001b[0m \u001b[1;33m=\u001b[0m \u001b[0mnp\u001b[0m\u001b[1;33m.\u001b[0m\u001b[0marange\u001b[0m\u001b[1;33m(\u001b[0m\u001b[0mlen\u001b[0m\u001b[1;33m(\u001b[0m\u001b[0mself\u001b[0m\u001b[1;33m.\u001b[0m\u001b[0mitems\u001b[0m\u001b[1;33m)\u001b[0m\u001b[1;33m)\u001b[0m\u001b[1;33m[\u001b[0m\u001b[0misnull\u001b[0m\u001b[1;33m(\u001b[0m\u001b[0mself\u001b[0m\u001b[1;33m.\u001b[0m\u001b[0mitems\u001b[0m\u001b[1;33m)\u001b[0m\u001b[1;33m]\u001b[0m\u001b[1;33m\u001b[0m\u001b[0m\n",
      "\u001b[1;32mc:\\users\\betfair\\anaconda3\\envs\\research\\lib\\site-packages\\pandas\\core\\indexes\\base.py\u001b[0m in \u001b[0;36mget_loc\u001b[1;34m(self, key, method, tolerance)\u001b[0m\n\u001b[0;32m   2393\u001b[0m                 \u001b[1;32mreturn\u001b[0m \u001b[0mself\u001b[0m\u001b[1;33m.\u001b[0m\u001b[0m_engine\u001b[0m\u001b[1;33m.\u001b[0m\u001b[0mget_loc\u001b[0m\u001b[1;33m(\u001b[0m\u001b[0mkey\u001b[0m\u001b[1;33m)\u001b[0m\u001b[1;33m\u001b[0m\u001b[0m\n\u001b[0;32m   2394\u001b[0m             \u001b[1;32mexcept\u001b[0m \u001b[0mKeyError\u001b[0m\u001b[1;33m:\u001b[0m\u001b[1;33m\u001b[0m\u001b[0m\n\u001b[1;32m-> 2395\u001b[1;33m                 \u001b[1;32mreturn\u001b[0m \u001b[0mself\u001b[0m\u001b[1;33m.\u001b[0m\u001b[0m_engine\u001b[0m\u001b[1;33m.\u001b[0m\u001b[0mget_loc\u001b[0m\u001b[1;33m(\u001b[0m\u001b[0mself\u001b[0m\u001b[1;33m.\u001b[0m\u001b[0m_maybe_cast_indexer\u001b[0m\u001b[1;33m(\u001b[0m\u001b[0mkey\u001b[0m\u001b[1;33m)\u001b[0m\u001b[1;33m)\u001b[0m\u001b[1;33m\u001b[0m\u001b[0m\n\u001b[0m\u001b[0;32m   2396\u001b[0m \u001b[1;33m\u001b[0m\u001b[0m\n\u001b[0;32m   2397\u001b[0m         \u001b[0mindexer\u001b[0m \u001b[1;33m=\u001b[0m \u001b[0mself\u001b[0m\u001b[1;33m.\u001b[0m\u001b[0mget_indexer\u001b[0m\u001b[1;33m(\u001b[0m\u001b[1;33m[\u001b[0m\u001b[0mkey\u001b[0m\u001b[1;33m]\u001b[0m\u001b[1;33m,\u001b[0m \u001b[0mmethod\u001b[0m\u001b[1;33m=\u001b[0m\u001b[0mmethod\u001b[0m\u001b[1;33m,\u001b[0m \u001b[0mtolerance\u001b[0m\u001b[1;33m=\u001b[0m\u001b[0mtolerance\u001b[0m\u001b[1;33m)\u001b[0m\u001b[1;33m\u001b[0m\u001b[0m\n",
      "\u001b[1;32mpandas\\_libs\\index.pyx\u001b[0m in \u001b[0;36mpandas._libs.index.IndexEngine.get_loc (pandas\\_libs\\index.c:5239)\u001b[1;34m()\u001b[0m\n",
      "\u001b[1;32mpandas\\_libs\\index.pyx\u001b[0m in \u001b[0;36mpandas._libs.index.IndexEngine.get_loc (pandas\\_libs\\index.c:5085)\u001b[1;34m()\u001b[0m\n",
      "\u001b[1;32mpandas\\_libs\\hashtable_class_helper.pxi\u001b[0m in \u001b[0;36mpandas._libs.hashtable.PyObjectHashTable.get_item (pandas\\_libs\\hashtable.c:20405)\u001b[1;34m()\u001b[0m\n",
      "\u001b[1;32mpandas\\_libs\\hashtable_class_helper.pxi\u001b[0m in \u001b[0;36mpandas._libs.hashtable.PyObjectHashTable.get_item (pandas\\_libs\\hashtable.c:20359)\u001b[1;34m()\u001b[0m\n",
      "\u001b[1;31mKeyError\u001b[0m: 'execution_times'"
     ],
     "output_type": "error"
    }
   ],
   "source": [
    "data[\"execution_times\"][data[\"execution_times\"] < 10].hist(bins = 100)\n",
    "\n",
    "plt.show()\n",
    "data = data[data[\"execution_times\"] < 10]"
   ]
  },
  {
   "cell_type": "code",
   "execution_count": 203,
   "metadata": {},
   "outputs": [
    {
     "data": {
      "image/png": "[encoded data removed]",
      "text/plain": [
       "<matplotlib.figure.Figure at 0x195cddf0>"
      ]
     },
     "metadata": {},
     "output_type": "display_data"
    },
    {
     "data": {
      "image/png": "[encoded data removed]",
      "text/plain": [
       "<matplotlib.figure.Figure at 0x18e90ed0>"
      ]
     },
     "metadata": {},
     "output_type": "display_data"
    },
    {
     "data": {
      "text/plain": [
       "count    13293.000000\n",
       "mean         1.007268\n",
       "std          0.064302\n",
       "min          0.327697\n",
       "25%          0.993939\n",
       "50%          1.001207\n",
       "75%          1.011629\n",
       "max          2.857143\n",
       "Name: sum_prob, dtype: float64"
      ]
     },
     "execution_count": 203,
     "metadata": {},
     "output_type": "execute_result"
    }
   ],
   "source": [
    "data[\"sum_prob\"].hist(bins = 100)\n",
    "plt.show()\n",
    "data[\"sum_prob\"].plot()\n",
    "plt.show()\n",
    "data[\"sum_prob\"].describe()"
   ]
  },
  {
   "cell_type": "code",
   "execution_count": 204,
   "metadata": {},
   "outputs": [],
   "source": [
    "def split_team(s, i):\n",
    "    if isinstance(s, str):\n",
    "        teams = s.split(\" v \")\n",
    "        if len(teams) > i:\n",
    "            return teams[i]\n",
    "        else:\n",
    "            return None\n",
    "    else:\n",
    "        return None\n",
    "\n",
    "data[\"team1\"] = data[\"event_name\"].apply(lambda x: split_team(x,0))\n",
    "data[\"team2\"] = data[\"event_name\"].apply(lambda x:split_team(x, 1))\n"
   ]
  },
  {
   "cell_type": "code",
   "execution_count": 218,
   "metadata": {},
   "outputs": [],
   "source": [
    "def pnl_per_runner(data, fee = 0.0, stake = 10, odds_ratio = 1):\n",
    "    data = data.copy()\n",
    "    targets = [\"1\",\"x\",\"2\"]\n",
    "    for target in targets:\n",
    "        pls = []\n",
    "        for i, odds in data.iterrows():\n",
    "                pl = ((float(odds[target]) * odds_ratio - 1) * stake) * (1 - fee) if target == odds[\"winner\"] else -stake \n",
    "                pls.append(pl)\n",
    "\n",
    "        data[\"pnl_\"+target] = pls\n",
    "    return data\n",
    "\n",
    "data = pnl_per_runner(data)"
   ]
  },
  {
   "cell_type": "code",
   "execution_count": 219,
   "metadata": {},
   "outputs": [
    {
     "name": "stdout",
     "output_type": "stream",
     "text": [
      "saved model to encoder.pkl\n"
     ]
    }
   ],
   "source": [
    "import matplotlib.pyplot as plt\n",
    "from sklearn.preprocessing import LabelEncoder\n",
    "from sklearn.externals import joblib\n",
    "\n",
    "data_preprocessing = data[[\"team1\",\"team2\",\"1\",\"x\",\"2\",\"pnl_1\",\"pnl_x\",\"pnl_2\", \"winner\"]]\n",
    "data_preprocessing = data_preprocessing[data_preprocessing.astype(str) != \"\\\\N\"].dropna().copy()\n",
    "all_teams = list(data_preprocessing[\"team1\"].values) + list(data_preprocessing[\"team2\"].values) \n",
    "le = LabelEncoder()\n",
    "le.fit(all_teams)\n",
    "\n",
    "joblib.dump(le, 'encoder.pkl') \n",
    "print(\"saved model to encoder.pkl\")\n",
    "\n",
    "data_preprocessing[\"team1_label\"] = le.transform(data_preprocessing[\"team1\"])\n",
    "data_preprocessing[\"team2_label\"] = le.transform(data_preprocessing[\"team2\"])\n",
    "\n",
    "data_preprocessing[\"1\"] = data_preprocessing[\"1\"].astype(float)\n",
    "data_preprocessing[\"x\"] = data_preprocessing[\"x\"].astype(float)\n",
    "data_preprocessing[\"2\"] = data_preprocessing[\"2\"].astype(float)\n",
    "\n",
    "data_preprocessing[\"prob_1\"] = 1/data_preprocessing[\"1\"]\n",
    "data_preprocessing[\"prob_x\"] = 1/data_preprocessing[\"x\"]\n",
    "data_preprocessing[\"prob_2\"] = 1/data_preprocessing[\"2\"]\n",
    "\n"
   ]
  },
  {
   "cell_type": "code",
   "execution_count": 220,
   "metadata": {},
   "outputs": [
    {
     "name": "stdout",
     "output_type": "stream",
     "text": [
      "absolute error of fit\n",
      "10.7340386056\n",
      "absolute error of pred\n",
      "16.0403312139\n",
      "r2 of fit\n",
      "0.555559128758\n",
      "r2 of pred\n",
      "-0.214838448229\n",
      "saved model to predictor_1.pkl\n",
      "absolute error of fit\n",
      "14.06955809\n",
      "absolute error of pred\n",
      "19.7734929395\n",
      "r2 of fit\n",
      "0.262402180807\n",
      "r2 of pred\n",
      "-82.5228434638\n",
      "saved model to predictor_x.pkl\n",
      "absolute error of fit\n",
      "13.3746624246\n",
      "absolute error of pred\n",
      "19.0958112725\n",
      "r2 of fit\n",
      "0.149628248233\n",
      "r2 of pred\n",
      "-5.24903580983\n",
      "saved model to predictor_2.pkl\n",
      "absolute error of fit\n",
      "10.7340386056\n",
      "absolute error of pred\n",
      "10.7340386056\n",
      "r2 of fit\n",
      "0.555559128758\n",
      "r2 of pred\n",
      "0.555559128758\n",
      "absolute error of fit\n",
      "14.06955809\n",
      "absolute error of pred\n",
      "14.06955809\n",
      "r2 of fit\n",
      "0.262402180807\n",
      "r2 of pred\n",
      "0.262402180807\n",
      "absolute error of fit\n",
      "13.3746624246\n",
      "absolute error of pred\n",
      "13.3746624246\n",
      "r2 of fit\n",
      "0.149628248233\n",
      "r2 of pred\n",
      "0.149628248233\n",
      "absolute error of fit\n",
      "10.7340386056\n",
      "absolute error of pred\n",
      "12.7025338406\n",
      "r2 of fit\n",
      "0.555559128758\n",
      "r2 of pred\n",
      "-0.334500350272\n",
      "absolute error of fit\n",
      "14.06955809\n",
      "absolute error of pred\n",
      "18.103057935\n",
      "r2 of fit\n",
      "0.262402180807\n",
      "r2 of pred\n",
      "-274.719209388\n",
      "absolute error of fit\n",
      "13.3746624246\n",
      "absolute error of pred\n",
      "14.5565978791\n",
      "r2 of fit\n",
      "0.149628248233\n",
      "r2 of pred\n",
      "-2.66561821027\n"
     ]
    }
   ],
   "source": [
    "number_games = len(data_preprocessing)\n",
    "\n",
    "fit_span = [0 , round(number_games * 0.4)]\n",
    "cv_span = [round(number_games * 0.4) , round(number_games * 0.7)]\n",
    "out_span = [round(number_games * 0.7) , number_games]\n",
    "data_fit = data_preprocessing.iloc[fit_span[0]:fit_span[1]].copy()\n",
    "data_cv = data_preprocessing.iloc[cv_span[0]:cv_span[1]].copy()\n",
    "data_out = data_preprocessing.iloc[out_span[0]:out_span[1]].copy()\n",
    "\n",
    "from sklearn.ensemble import RandomForestRegressor\n",
    "from sklearn import linear_model\n",
    "from sklearn import metrics\n",
    "from sklearn.externals import joblib\n",
    "clf = RandomForestRegressor(max_depth=10, n_estimators=20, max_features=5, random_state = 1)\n",
    "predictors = [\"team1_label\",\"team2_label\",\"1\", \"x\", \"2\"]\n",
    "\n",
    "#clf = linear_model.LinearRegression()\n",
    "#predictors = [\"1\", \"x\", \"2\"]\n",
    "\n",
    "\n",
    "def prediction(data_fit, data_out, target, clf, predictors, save = None):\n",
    "    X = data_fit[predictors]\n",
    "    Y = data_fit[target]\n",
    "    #Y = data_fit[\"winner\"] == \"x\"\n",
    "    X_out = data_out[predictors]\n",
    "    Y_out = data_out[target]\n",
    "    #clf = RandomForestClassifier(max_depth=10, n_estimators=20, max_features=3)\n",
    "    \n",
    "    clf.fit(X,Y)\n",
    "    Y_estim = clf.predict(X)\n",
    "    Y_pred = clf.predict(X_out)\n",
    "    \n",
    "    print(\"absolute error of fit\")\n",
    "    print(metrics.mean_absolute_error(Y_estim, Y))\n",
    "    print(\"absolute error of pred\")\n",
    "    print(metrics.mean_absolute_error(Y_pred, Y_out))\n",
    "    print(\"r2 of fit\")\n",
    "    print(metrics.r2_score(Y_estim, Y))\n",
    "    print(\"r2 of pred\")\n",
    "    print(metrics.r2_score(Y_pred, Y_out))\n",
    "    \n",
    "    if save is not None:\n",
    "        joblib.dump(clf, save+'.pkl') \n",
    "        print(\"saved model to \"+save+\".pkl\")\n",
    "        \n",
    "    return Y_pred\n",
    "\n",
    "data_cv[\"pred_1\"] = prediction(data_fit, data_cv, \"pnl_1\", clf, predictors, save = \"predictor_1\")\n",
    "data_cv[\"pred_x\"] = prediction(data_fit, data_cv, \"pnl_x\", clf, predictors, save = \"predictor_x\")\n",
    "data_cv[\"pred_2\"] = prediction(data_fit, data_cv, \"pnl_2\", clf, predictors, save = \"predictor_2\")\n",
    "\n",
    "\n",
    "data_fit[\"pred_1\"] = prediction(data_fit, data_fit, \"pnl_1\", clf, predictors)\n",
    "data_fit[\"pred_x\"] = prediction(data_fit, data_fit, \"pnl_x\", clf, predictors)\n",
    "data_fit[\"pred_2\"] = prediction(data_fit, data_fit, \"pnl_2\", clf, predictors)\n",
    "\n",
    "\n",
    "data_out[\"pred_1\"] = prediction(data_fit, data_out, \"pnl_1\", clf, predictors)\n",
    "data_out[\"pred_x\"] = prediction(data_fit, data_out, \"pnl_x\", clf, predictors)\n",
    "data_out[\"pred_2\"] = prediction(data_fit, data_out, \"pnl_2\", clf, predictors)\n"
   ]
  },
  {
   "cell_type": "code",
   "execution_count": 221,
   "metadata": {},
   "outputs": [],
   "source": [
    "def pnl_target(pred, fee = 0.05, stake = 10, max_odds = 2, min_odds = 1.2, \n",
    "               scale_with_pred = True, scale_with_odds = False, target_restrict = None,\n",
    "              min_pred = 0):\n",
    "    data = pred.copy()\n",
    "    pls = []\n",
    "    targets = []\n",
    "    runners  = [\"1\",\"x\",\"2\"]\n",
    "    for i, odds in data.iterrows():\n",
    "        target = \"1\"\n",
    "        for r in runners:\n",
    "            if float(odds[\"pred_\"+r]) > float(odds[\"pred_\"+target]):\n",
    "                target = r\n",
    "        \n",
    "        restricted = target_restrict is None or target in target_restrict\n",
    "        \n",
    "        if odds[\"pred_\"+target] > min_pred and float(odds[target])<max_odds  and float(odds[target])>min_odds and restricted:\n",
    "            stake_adjusted = stake\n",
    "            \n",
    "            if scale_with_odds:\n",
    "                stake_adjusted = stake_adjusted / float(odds[target])\n",
    "            \n",
    "            if scale_with_pred:\n",
    "                stake_adjusted = stake_adjusted * max(min(odds[\"pred_\"+target], 5), 0.5)\n",
    "                \n",
    "            pl = ((float(odds[target]) - 1) * stake_adjusted) * (1 - fee) if target == odds[\"winner\"] else - stake_adjusted \n",
    "            pls.append(pl)\n",
    "            targets.append(target)\n",
    "        else:\n",
    "            pls.append(0)\n",
    "            targets.append(target)\n",
    "    data[\"pnl\"] = pls\n",
    "    \n",
    "    data[\"bet\"] = targets\n",
    "    data.index = range(len(data))\n",
    "    data[\"cum_pnl\"] = data[\"pnl\"].cumsum()\n",
    "    data[\"drawdown\"] = data[\"cum_pnl\"].cummax() - data[\"cum_pnl\"]\n",
    "    m = (data[data[\"pnl\"] != 0])[\"pnl\"].mean()\n",
    "    s = (data[data[\"pnl\"] != 0])[\"pnl\"].std()\n",
    "    \n",
    "    p_bet = (data[data[\"pnl\"] > 0])[\"pnl\"].count()\n",
    "    n_bet = (data[data[\"pnl\"] < 0])[\"pnl\"].count()\n",
    "    \n",
    "    winning_ratio = p_bet / (p_bet + n_bet)\n",
    "    print(\"played games: %f\" % (len(data[data[\"pnl\"] != 0]) / len(data)))\n",
    "    sharpe = m/s\n",
    "    print(\"mean : %f\" % m)\n",
    "    print(\"standard deviation: %f\" % s)\n",
    "    print(\"max drawdown: %f\" % data[\"drawdown\"].max())\n",
    "    print(\"winning ratio: %f\" % winning_ratio)\n",
    "    print(\"sharpe: %f\" % (sharpe * np.sqrt(100)))\n",
    "    return data"
   ]
  },
  {
   "cell_type": "code",
   "execution_count": 226,
   "metadata": {},
   "outputs": [
    {
     "name": "stdout",
     "output_type": "stream",
     "text": [
      "played games: 0.130676\n",
      "mean : 11.628028\n",
      "standard deviation: 27.314321\n",
      "max drawdown: 94.652247\n",
      "winning ratio: 0.594901\n",
      "sharpe: 4.257118\n"
     ]
    }
   ],
   "source": [
    "pl = pnl_target(data_fit, max_odds = 4, min_odds = 1.1, fee = 0.05, \n",
    "                target_restrict = None, scale_with_pred = True, \n",
    "                stake = 10, scale_with_odds = False, min_pred = 0.5)"
   ]
  },
  {
   "cell_type": "code",
   "execution_count": 227,
   "metadata": {},
   "outputs": [
    {
     "data": {
      "image/png": "[encoded data removed]",
      "text/plain": [
       "<matplotlib.figure.Figure at 0x192b2590>"
      ]
     },
     "metadata": {},
     "output_type": "display_data"
    }
   ],
   "source": [
    "from matplotlib import pyplot as plt\n",
    "pl[\"cum_pnl\"].plot()\n",
    "pl[\"drawdown\"].plot()\n",
    "plt.show()"
   ]
  },
  {
   "cell_type": "code",
   "execution_count": 211,
   "metadata": {},
   "outputs": [
    {
     "name": "stdout",
     "output_type": "stream",
     "text": [
      "played games: 0.150816\n",
      "mean : -3.405822\n",
      "standard deviation: 107.043379\n",
      "max drawdown: 4773.342215\n",
      "winning ratio: 0.314476\n",
      "sharpe: -0.318172\n"
     ]
    }
   ],
   "source": [
    "pl = pnl_target(data_out, max_odds = 4, min_odds = 1.1, fee = 0.1, \n",
    "                target_restrict = None, scale_with_pred = True, \n",
    "                stake = 40, scale_with_odds = False, min_pred = 0.5)"
   ]
  },
  {
   "cell_type": "code",
   "execution_count": 12,
   "metadata": {},
   "outputs": [
    {
     "data": {
      "image/png": "[encoded data removed]",
      "text/plain": [
       "<matplotlib.figure.Figure at 0xb4852f0>"
      ]
     },
     "metadata": {},
     "output_type": "display_data"
    }
   ],
   "source": [
    "from matplotlib import pyplot as plt\n",
    "pl[\"cum_pnl\"].plot()\n",
    "pl[\"drawdown\"].plot()\n",
    "plt.show()"
   ]
  },
  {
   "cell_type": "code",
   "execution_count": 13,
   "metadata": {},
   "outputs": [],
   "source": [
    "pl.to_csv(\"pred_1.csv\", sep = \";\")"
   ]
  },
  {
   "cell_type": "code",
   "execution_count": 305,
   "metadata": {},
   "outputs": [
    {
     "data": {
      "text/plain": [
       "137026"
      ]
     },
     "execution_count": 305,
     "metadata": {},
     "output_type": "execute_result"
    }
   ],
   "source": [
    "len(data_preprocessing)"
   ]
  },
  {
   "cell_type": "code",
   "execution_count": 86,
   "metadata": {},
   "outputs": [
    {
     "name": "stdout",
     "output_type": "stream",
     "text": [
      "[[5715, 10146, 2.5, 3.8999999999999999, 5.2000000000000002]]\n",
      "{'1': array([ 0.38376238]), 'x': array([-0.34452114]), '2': array([-0.33114465])}\n"
     ]
    },
    {
     "data": {
      "text/plain": [
       "('1', 2.0)"
      ]
     },
     "execution_count": 86,
     "metadata": {},
     "output_type": "execute_result"
    }
   ],
   "source": [
    "from sklearn.externals import joblib\n",
    "\n",
    "class RFRPredictor():\n",
    "    def __init__(self, pred_file, encoder_file, runners, stake = 4, target_restrict = None, \n",
    "                 scale_with_pred=None, scale_with_odds=None, min_odds = 1.01, \n",
    "                 max_odds = 1000, min_pred = 0):\n",
    "        \n",
    "        self.encoder_file = encoder_file\n",
    "        self.pred_file = pred_file\n",
    "        self.runners = runners\n",
    "        self.stake = stake\n",
    "        self.target_restrict = target_restrict\n",
    "        self.scale_with_pred = scale_with_pred,\n",
    "        self.scale_with_odds = scale_with_odds, \n",
    "        self.min_odds = min_odds\n",
    "        self.max_odds = max_odds\n",
    "        self.min_pred = min_pred\n",
    "        self.models = self.read_models(self.pred_file, self.runners)\n",
    "        self.encoder = self.read_encoder(self.encoder_file)\n",
    "        \n",
    "    def read_models(self, file, runners):\n",
    "        models = {}\n",
    "        for runner in runners:\n",
    "            models[runner] = joblib.load(file+\"_\"+runner+\".pkl\")\n",
    "        return models\n",
    "\n",
    "    def read_encoder(self, file):\n",
    "        return joblib.load(file+\".pkl\")\n",
    "\n",
    "    def make_prediction(self, data):\n",
    "        \n",
    "        try:\n",
    "            team1_label = self.encoder.transform([data[\"team1\"]])[0]\n",
    "            team2_label = self.encoder.transform([data[\"team2\"]])[0]\n",
    "        except ValueError:\n",
    "            return {runner:-1000 for runner in runners}\n",
    "        \n",
    "        regressors = [[team1_label,team2_label,data[\"1\"], data[\"x\"], data[\"2\"]]]\n",
    "        print(regressors)\n",
    "        pred = {}\n",
    "\n",
    "        for runner in self.runners:\n",
    "            pred[runner] = self.models[runner].predict(regressors)\n",
    "\n",
    "        return pred\n",
    "\n",
    "    def get_bet(self, odds):\n",
    "        \n",
    "        pred = self.make_prediction(odds)\n",
    "        print(pred)\n",
    "        target = self.runners[0]\n",
    "        for runner in self.runners:\n",
    "            if float(pred[runner]) > float(pred[target]):\n",
    "                target = runner\n",
    "\n",
    "        restricted = self.target_restrict is None or target in self.target_restrict\n",
    "\n",
    "        if pred[target] > self.min_pred and float(odds[target])<self.max_odds \\\n",
    "                    and float(odds[target])>self.min_odds and restricted:\n",
    "            \n",
    "            stake_adjusted = self.stake\n",
    "\n",
    "            if self.scale_with_odds:\n",
    "                stake_adjusted = stake_adjusted / float(odds[target])\n",
    "\n",
    "            if self.scale_with_pred:\n",
    "                stake_adjusted = stake_adjusted * max(min(pred[target], 5), 0.5)\n",
    "            return target, stake_adjusted\n",
    "        else:\n",
    "            return None, 0\n",
    "\n",
    "\n",
    "pred_file = \"predictor\"    \n",
    "encoder_file = \"encoder\"\n",
    "runners = [\"1\",\"x\",\"2\"]\n",
    "\n",
    "predictor = RFRPredictor(pred_file, encoder_file, runners, stake = 10, max_odds = 5, min_odds = 1.2, \n",
    "        scale_with_pred = True, scale_with_odds = False, target_restrict = None,\n",
    "        min_pred = 0)\n",
    "\n",
    "odds = data_preprocessing.iloc[0]\n",
    "\n",
    "predictor.get_bet(odds)\n"
   ]
  },
  {
   "cell_type": "code",
   "execution_count": 87,
   "metadata": {},
   "outputs": [
    {
     "name": "stdout",
     "output_type": "stream",
     "text": [
      "sharpe: 10.000000\n"
     ]
    }
   ],
   "source": [
    "print(\"sharpe: %f\" % np.sqrt(100))"
   ]
  },
  {
   "cell_type": "code",
   "execution_count": 97,
   "metadata": {},
   "outputs": [
    {
     "name": "stdout",
     "output_type": "stream",
     "text": [
      "[[5715, 10146, 1.5, 3.8999999999999999, 5.2000000000000002]]\n",
      "{'1': array([-0.71601151]), 'x': array([-0.46854076]), '2': array([-0.43885656])}\n"
     ]
    },
    {
     "name": "stderr",
     "output_type": "stream",
     "text": [
      "c:\\users\\betfair\\anaconda3\\envs\\research\\lib\\site-packages\\ipykernel_launcher.py:2: SettingWithCopyWarning: \n",
      "A value is trying to be set on a copy of a slice from a DataFrame\n",
      "\n",
      "See the caveats in the documentation: http://pandas.pydata.org/pandas-docs/stable/indexing.html#indexing-view-versus-copy\n",
      "  \n"
     ]
    },
    {
     "data": {
      "text/plain": [
       "(None, 0)"
      ]
     },
     "execution_count": 97,
     "metadata": {},
     "output_type": "execute_result"
    }
   ],
   "source": [
    "odds = data_preprocessing.iloc[0]\n",
    "odds[\"1\"] = 1.5\n",
    "\n",
    "predictor.get_bet(odds)"
   ]
  },
  {
   "cell_type": "code",
   "execution_count": 90,
   "metadata": {},
   "outputs": [
    {
     "data": {
      "text/plain": [
       "team1          Greenbay Hoppers FC\n",
       "team2                       SAP FC\n",
       "1                              2.9\n",
       "x                              3.9\n",
       "2                              5.2\n",
       "pnl_1                        14.25\n",
       "pnl_x                          -10\n",
       "pnl_2                          -10\n",
       "winner                           1\n",
       "team1_label                   5715\n",
       "team2_label                  10146\n",
       "prob_1                         0.4\n",
       "prob_x                     0.25641\n",
       "prob_2                    0.192308\n",
       "Name: 70594, dtype: object"
      ]
     },
     "execution_count": 90,
     "metadata": {},
     "output_type": "execute_result"
    }
   ],
   "source": [
    "odds"
   ]
  },
  {
   "cell_type": "code",
   "execution_count": 161,
   "metadata": {},
   "outputs": [
    {
     "data": {
      "image/png": "[encoded data removed]",
      "text/plain": [
       "<matplotlib.figure.Figure at 0x191de9b0>"
      ]
     },
     "metadata": {},
     "output_type": "display_data"
    }
   ],
   "source": [
    "data_preprocessing[[\"prob_1\", \"prob_x\", \"prob_1\"]].sum(axis = 1).hist(bins = 100)\n",
    "plt.show()"
   ]
  },
  {
   "cell_type": "code",
   "execution_count": 109,
   "metadata": {},
   "outputs": [],
   "source": [
    "data_preprocessing[data_preprocessing[[\"prob_1\", \"prob_x\", \"prob_1\"]].sum(axis = 1)<0.1].to_clipboard()"
   ]
  },
  {
   "cell_type": "code",
   "execution_count": 110,
   "metadata": {},
   "outputs": [],
   "source": [
    "a = (1, 2, 3)"
   ]
  },
  {
   "cell_type": "code",
   "execution_count": 111,
   "metadata": {},
   "outputs": [
    {
     "data": {
      "text/plain": [
       "(1, 2, 3, 1, 2, 3)"
      ]
     },
     "execution_count": 111,
     "metadata": {},
     "output_type": "execute_result"
    }
   ],
   "source": [
    "a + (1, 2, 3)"
   ]
  },
  {
   "cell_type": "code",
   "execution_count": 112,
   "metadata": {},
   "outputs": [
    {
     "data": {
      "text/plain": [
       "20.56"
      ]
     },
     "execution_count": 112,
     "metadata": {},
     "output_type": "execute_result"
    }
   ],
   "source": [
    "round(20.5555555,2)"
   ]
  },
  {
   "cell_type": "code",
   "execution_count": 163,
   "metadata": {},
   "outputs": [],
   "source": [
    "data.to_clipboard(sep = \";\")"
   ]
  },
  {
   "cell_type": "code",
   "execution_count": 195,
   "metadata": {},
   "outputs": [
    {
     "data": {
      "text/plain": [
       "13293"
      ]
     },
     "execution_count": 195,
     "metadata": {},
     "output_type": "execute_result"
    }
   ],
   "source": [
    "len(data_preprocessing)"
   ]
  },
  {
   "cell_type": "code",
   "execution_count": null,
   "metadata": {},
   "outputs": [],
   "source": []
  }
 ],
 "metadata": {
  "kernelspec": {
   "display_name": "Python 3",
   "language": "python",
   "name": "python3"
  },
  "language_info": {
   "codemirror_mode": {
    "name": "ipython",
    "version": 3
   },
   "file_extension": ".py",
   "mimetype": "text/x-python",
   "name": "python",
   "nbconvert_exporter": "python",
   "pygments_lexer": "ipython3",
   "version": "3.6.1"
  }
 },
 "nbformat": 4,
 "nbformat_minor": 2
}
